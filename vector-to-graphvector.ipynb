{
 "cells": [
  {
   "cell_type": "code",
   "execution_count": 1,
   "metadata": {},
   "outputs": [
    {
     "name": "stdout",
     "output_type": "stream",
     "text": [
      "Note: you may need to restart the kernel to use updated packages.\n"
     ]
    }
   ],
   "source": [
    "%pip install -q -r requirements.txt\n"
   ]
  },
  {
   "cell_type": "code",
   "execution_count": 2,
   "metadata": {},
   "outputs": [],
   "source": [
    "import logging\n",
    "logging.basicConfig(level=logging.ERROR)\n",
    "logger = logging.getLogger(__name__)\n"
   ]
  },
  {
   "cell_type": "code",
   "execution_count": 3,
   "metadata": {},
   "outputs": [],
   "source": [
    "from dotenv import load_dotenv\n",
    "import os\n",
    "\n",
    "load_dotenv()\n",
    "OPENAI_API_KEY = os.getenv(\"OPENAI_API_KEY\")\n",
    "ASTRA_DB_API_ENDPOINT = os.getenv(\"ASTRA_DB_API_ENDPOINT\")\n",
    "ASTRA_DB_DATABASE_ID = os.getenv(\"ASTRA_DB_DATABASE_ID\")\n",
    "ASTRA_DB_APPLICATION_TOKEN = os.getenv(\"ASTRA_DB_APPLICATION_TOKEN\")\n",
    "ASTRA_DB_KEYSPACE = os.getenv(\"ASTRA_DB_KEYSPACE\")\n",
    " "
   ]
  },
  {
   "cell_type": "code",
   "execution_count": 4,
   "metadata": {},
   "outputs": [],
   "source": [
    "from langchain_openai import OpenAIEmbeddings\n",
    "embeddings = OpenAIEmbeddings(model=\"text-embedding-3-large\")\n"
   ]
  },
  {
   "cell_type": "code",
   "execution_count": 5,
   "metadata": {},
   "outputs": [],
   "source": [
    "from langchain_astradb import AstraDBVectorStore\n",
    "\n",
    "vector_store = AstraDBVectorStore(\n",
    "    collection_name=\"unstructure_elements\",\n",
    "    embedding=embeddings,\n",
    "    api_endpoint=ASTRA_DB_API_ENDPOINT,\n",
    "    token=ASTRA_DB_APPLICATION_TOKEN,\n",
    "    namespace=ASTRA_DB_KEYSPACE,\n",
    ")\n"
   ]
  },
  {
   "cell_type": "code",
   "execution_count": 6,
   "metadata": {},
   "outputs": [],
   "source": [
    "from langchain_core.documents import Document\n",
    "from unstructured.documents.elements import Element\n",
    "def element_to_document(element: Element) -> Document:\n",
    "    return Document(\n",
    "        id=element.id,\n",
    "        page_content=element.text,\n",
    "        metadata={\n",
    "            \"type\": type(element).__name__,\n",
    "            \"links\": [],\n",
    "            **element.metadata.to_dict(),\n",
    "        },\n",
    "    )\n"
   ]
  },
  {
   "cell_type": "code",
   "execution_count": 7,
   "metadata": {},
   "outputs": [],
   "source": [
    "from unstructured.partition.pdf import partition_pdf\n",
    "\n",
    "elements = partition_pdf(\n",
    "    filename=\"./data/sample4.pdf\",\n",
    "    extract_images_in_pdf=True,\n",
    "    infer_table_structure=True,\n",
    "    max_characters=2000,\n",
    "    new_after_n_chars=1700,\n",
    "    extract_image_block_output_dir=\"images/\",\n",
    ")\n"
   ]
  },
  {
   "cell_type": "code",
   "execution_count": 8,
   "metadata": {},
   "outputs": [],
   "source": [
    "docs = []\n",
    "for element in elements:\n",
    "        try:\n",
    "            element_type = type(element).__name__\n",
    "            doc = element_to_document(element)\n",
    "            docs.append(doc)\n",
    "        except Exception as e:\n",
    "            print(\n",
    "                f\"An error occurred while processing element {element.id}: {e}\"\n",
    "            )\n",
    "            break\n",
    "\n"
   ]
  },
  {
   "cell_type": "code",
   "execution_count": 9,
   "metadata": {},
   "outputs": [
    {
     "data": {
      "text/plain": [
       "['8a137031615c0f20b771cfe3956d57f8',\n",
       " '3579e20ad32d793a8dd28ff5d8023da7',\n",
       " '80e8c329a3a621b91a31bcf97ff3334f',\n",
       " '35ccf72b73f67342fb97284be07e0de1',\n",
       " '39324654c968eb3357caf516e5f7f294',\n",
       " 'e6cd9de5667b301da81d1373f90e734c',\n",
       " '935fdcf8ba2e601348691f23784106a0',\n",
       " '002f87c6560b4f412ee064375b00319d',\n",
       " '2c3e32aafc4e37c57c9299bb1abe8cf3',\n",
       " 'c350ce92d1a85844e3195a7f97174afb',\n",
       " 'c20e14a2e6cc3abd9e3794c19db89c4e',\n",
       " 'bc5e09f692d6cf4ac05d9e6d84ecf9ca',\n",
       " '73c2a9d151deb9c8f6b1113cb8faad74',\n",
       " 'b58ded2c0d09fcd6b1810df1f7cd9423',\n",
       " '0c6140c07f5c2e92399007e8c762c4cb',\n",
       " 'b5906a2b13ee1bbfb62f054bd10f61f2',\n",
       " 'ae823f07134a0ee9e668bef86d2caa08',\n",
       " '4836a5c73aaa4ee24183d49ebc83390f',\n",
       " 'ec4e566681062b3415e6e140502beb8b',\n",
       " '441d6021d20dac79ddd32d9e17568dc8',\n",
       " 'b7cdb0075e34409ff9418ff94b025d74']"
      ]
     },
     "execution_count": 9,
     "metadata": {},
     "output_type": "execute_result"
    }
   ],
   "source": [
    "vector_store.add_documents(docs)\n"
   ]
  },
  {
   "cell_type": "code",
   "execution_count": 10,
   "metadata": {},
   "outputs": [
    {
     "name": "stdout",
     "output_type": "stream",
     "text": [
      "{'type': 'Image', 'links': [], 'coordinates': {'points': [[-2.083333333333333, 1966.6666666666665], [-2.083333333333333, 2200.0], [1702.0833333333333, 2200.0], [1702.0833333333333, 1966.6666666666665]], 'system': 'PixelSpace', 'layout_width': 1700, 'layout_height': 2200}, 'last_modified': '2024-11-04T19:11:07', 'filetype': 'application/pdf', 'languages': ['eng'], 'page_number': 2, 'image_path': 'images/figure-2-5.jpg', 'file_directory': './data', 'filename': 'sample4.pdf'}\n",
      "{'type': 'Title', 'links': [], 'detection_class_prob': 0.6584488749504089, 'coordinates': {'points': [[195.39285278320312, 411.7275390625], [195.39285278320312, 513.0299504884981], [937.9750366210938, 513.0299504884981], [937.9750366210938, 411.7275390625]], 'system': 'PixelSpace', 'layout_width': 1700, 'layout_height': 2200}, 'last_modified': '2024-11-04T19:11:07', 'filetype': 'application/pdf', 'languages': ['eng'], 'page_number': 1, 'file_directory': './data', 'filename': 'sample4.pdf'}\n",
      "{'type': 'Image', 'links': [], 'coordinates': {'points': [[-2.083333333333333, 1968.75], [-2.083333333333333, 2202.083333333333], [1702.0833333333333, 2202.083333333333], [1702.0833333333333, 1968.75]], 'system': 'PixelSpace', 'layout_width': 1700, 'layout_height': 2200}, 'last_modified': '2024-11-04T19:11:07', 'filetype': 'application/pdf', 'languages': ['eng'], 'page_number': 1, 'image_path': 'images/figure-1-3.jpg', 'file_directory': './data', 'filename': 'sample4.pdf'}\n",
      "{'type': 'Image', 'links': [], 'coordinates': {'points': [[200.0, 952.0832777777778], [200.0, 1562.5], [735.416611111111, 1562.5], [735.416611111111, 952.0832777777778]], 'system': 'PixelSpace', 'layout_width': 1700, 'layout_height': 2200}, 'last_modified': '2024-11-04T19:11:07', 'filetype': 'application/pdf', 'languages': ['eng'], 'page_number': 1, 'image_path': 'images/figure-1-2.jpg', 'file_directory': './data', 'filename': 'sample4.pdf'}\n",
      "{'type': 'NarrativeText', 'links': [], 'detection_class_prob': 0.919620156288147, 'coordinates': {'points': [[197.91666666666666, 1700.6177978515625], [197.91666666666666, 1834.7098526487086], [1442.4452049466554, 1834.7098526487086], [1442.4452049466554, 1700.6177978515625]], 'system': 'PixelSpace', 'layout_width': 1700, 'layout_height': 2200}, 'last_modified': '2024-11-04T19:11:07', 'filetype': 'application/pdf', 'languages': ['eng'], 'page_number': 1, 'parent_id': '73c2a9d151deb9c8f6b1113cb8faad74', 'file_directory': './data', 'filename': 'sample4.pdf'}\n",
      "{'type': 'Title', 'links': [], 'detection_class_prob': 0.8070774078369141, 'coordinates': {'points': [[784.7552490234375, 1314.323974609375], [784.7552490234375, 1349.1657974583334], [981.9907836914062, 1349.1657974583334], [981.9907836914062, 1314.323974609375]], 'system': 'PixelSpace', 'layout_width': 1700, 'layout_height': 2200}, 'last_modified': '2024-11-04T19:11:07', 'filetype': 'application/pdf', 'languages': ['eng'], 'page_number': 1, 'file_directory': './data', 'filename': 'sample4.pdf'}\n",
      "{'type': 'Image', 'links': [], 'coordinates': {'points': [[1202.0833333333333, 0], [1202.0833333333333, 500.0], [1702.0833333333333, 500.0], [1702.0833333333333, 0]], 'system': 'PixelSpace', 'layout_width': 1700, 'layout_height': 2200}, 'last_modified': '2024-11-04T19:11:07', 'filetype': 'application/pdf', 'languages': ['eng'], 'page_number': 1, 'image_path': 'images/figure-1-1.jpg', 'file_directory': './data', 'filename': 'sample4.pdf'}\n",
      "{'type': 'Image', 'links': [], 'coordinates': {'points': [[1452.0833333333333, 0], [1452.0833333333333, 250.0], [1702.0833333333333, 250.0], [1702.0833333333333, 0]], 'system': 'PixelSpace', 'layout_width': 1700, 'layout_height': 2200}, 'last_modified': '2024-11-04T19:11:07', 'filetype': 'application/pdf', 'languages': ['eng'], 'page_number': 2, 'image_path': 'images/figure-2-4.jpg', 'file_directory': './data', 'filename': 'sample4.pdf'}\n",
      "{'type': 'Header', 'links': [], 'detection_class_prob': 0.7280166149139404, 'coordinates': {'points': [[197.34747314453125, 132.3511505126953], [197.34747314453125, 165.83247100000006], [216.63411466666665, 165.83247100000006], [216.63411466666665, 132.3511505126953]], 'system': 'PixelSpace', 'layout_width': 1700, 'layout_height': 2200}, 'last_modified': '2024-11-04T19:11:07', 'filetype': 'application/pdf', 'languages': ['eng'], 'page_number': 2, 'file_directory': './data', 'filename': 'sample4.pdf'}\n",
      "{'type': 'NarrativeText', 'links': [], 'detection_class_prob': 0.9496526122093201, 'coordinates': {'points': [[197.51266479492188, 758.4445190429688], [197.51266479492188, 997.2098526487088], [1478.2836073864346, 997.2098526487088], [1478.2836073864346, 758.4445190429688]], 'system': 'PixelSpace', 'layout_width': 1700, 'layout_height': 2200}, 'last_modified': '2024-11-04T19:11:07', 'filetype': 'application/pdf', 'languages': ['eng'], 'page_number': 2, 'parent_id': '4836a5c73aaa4ee24183d49ebc83390f', 'file_directory': './data', 'filename': 'sample4.pdf'}\n",
      "{'type': 'NarrativeText', 'links': [], 'detection_class_prob': 0.9381678104400635, 'coordinates': {'points': [[197.91666666666666, 762.22021484375], [197.91666666666666, 897.2098526487088], [1442.4452049466554, 897.2098526487088], [1442.4452049466554, 762.22021484375]], 'system': 'PixelSpace', 'layout_width': 1700, 'layout_height': 2200}, 'last_modified': '2024-11-04T19:11:07', 'filetype': 'application/pdf', 'languages': ['eng'], 'page_number': 1, 'parent_id': 'e6cd9de5667b301da81d1373f90e734c', 'file_directory': './data', 'filename': 'sample4.pdf'}\n",
      "{'type': 'Title', 'links': [], 'detection_class_prob': 0.8636807203292847, 'coordinates': {'points': [[197.91666666666666, 666.4296875], [197.91666666666666, 728.5748742500001], [653.0220947265625, 728.5748742500001], [653.0220947265625, 666.4296875]], 'system': 'PixelSpace', 'layout_width': 1700, 'layout_height': 2200}, 'last_modified': '2024-11-04T19:11:07', 'filetype': 'application/pdf', 'languages': ['eng'], 'page_number': 1, 'file_directory': './data', 'filename': 'sample4.pdf'}\n",
      "{'type': 'NarrativeText', 'links': [], 'detection_class_prob': 0.941511332988739, 'coordinates': {'points': [[785.4166666666666, 1382.915283203125], [785.4166666666666, 1570.1265193153754], [1451.5125732421875, 1570.1265193153754], [1451.5125732421875, 1382.915283203125]], 'system': 'PixelSpace', 'layout_width': 1700, 'layout_height': 2200}, 'last_modified': '2024-11-04T19:11:07', 'filetype': 'application/pdf', 'languages': ['eng'], 'page_number': 1, 'parent_id': 'c20e14a2e6cc3abd9e3794c19db89c4e', 'file_directory': './data', 'filename': 'sample4.pdf'}\n",
      "{'type': 'Title', 'links': [], 'detection_class_prob': 0.8328118920326233, 'coordinates': {'points': [[194.70135498046875, 1617.95751953125], [194.70135498046875, 1666.7118027140841], [365.1525573730469, 1666.7118027140841], [365.1525573730469, 1617.95751953125]], 'system': 'PixelSpace', 'layout_width': 1700, 'layout_height': 2200}, 'last_modified': '2024-11-04T19:11:07', 'filetype': 'application/pdf', 'languages': ['eng'], 'page_number': 1, 'file_directory': './data', 'filename': 'sample4.pdf'}\n",
      "{'type': 'NarrativeText', 'links': [], 'detection_class_prob': 0.9505614638328552, 'coordinates': {'points': [[785.4166666666666, 1025.6669921875], [785.4166666666666, 1265.9598526487086], [1479.8175048828125, 1265.9598526487086], [1479.8175048828125, 1025.6669921875]], 'system': 'PixelSpace', 'layout_width': 1700, 'layout_height': 2200}, 'last_modified': '2024-11-04T19:11:07', 'filetype': 'application/pdf', 'languages': ['eng'], 'page_number': 1, 'file_directory': './data', 'filename': 'sample4.pdf'}\n",
      "{'type': 'Title', 'links': [], 'detection_class_prob': 0.7488299608230591, 'coordinates': {'points': [[197.30868530273438, 157.51976013183594], [197.30868530273438, 216.89670199424899], [564.1777954101562, 216.89670199424899], [564.1777954101562, 157.51976013183594]], 'system': 'PixelSpace', 'layout_width': 1700, 'layout_height': 2200}, 'last_modified': '2024-11-04T19:11:07', 'filetype': 'application/pdf', 'languages': ['eng'], 'page_number': 1, 'file_directory': './data', 'filename': 'sample4.pdf'}\n",
      "{'type': 'NarrativeText', 'links': [], 'detection_class_prob': 0.6961357593536377, 'coordinates': {'points': [[197.91666666666666, 541.7613525390625], [197.91666666666666, 577.070965044542], [477.94036865234375, 577.070965044542], [477.94036865234375, 541.7613525390625]], 'system': 'PixelSpace', 'layout_width': 1700, 'layout_height': 2200}, 'last_modified': '2024-11-04T19:11:07', 'filetype': 'application/pdf', 'languages': ['eng'], 'page_number': 1, 'parent_id': '35ccf72b73f67342fb97284be07e0de1', 'file_directory': './data', 'filename': 'sample4.pdf'}\n",
      "{'type': 'Title', 'links': [], 'detection_class_prob': 0.8497405052185059, 'coordinates': {'points': [[191.45082092285156, 270.5783386230469], [191.45082092285156, 332.7415409166668], [378.80419921875, 332.7415409166668], [378.80419921875, 270.5783386230469]], 'system': 'PixelSpace', 'layout_width': 1700, 'layout_height': 2200}, 'last_modified': '2024-11-04T19:11:07', 'filetype': 'application/pdf', 'languages': ['eng'], 'page_number': 2, 'parent_id': 'ae823f07134a0ee9e668bef86d2caa08', 'file_directory': './data', 'filename': 'sample4.pdf'}\n",
      "{'type': 'NarrativeText', 'links': [], 'detection_class_prob': 0.9483880996704102, 'coordinates': {'points': [[195.46563720703125, 367.3487421278755], [195.46563720703125, 709.7098526487088], [1489.069621816406, 709.7098526487088], [1489.069621816406, 367.3487421278755]], 'system': 'PixelSpace', 'layout_width': 1700, 'layout_height': 2200}, 'last_modified': '2024-11-04T19:11:07', 'filetype': 'application/pdf', 'languages': ['eng'], 'page_number': 2, 'parent_id': '4836a5c73aaa4ee24183d49ebc83390f', 'file_directory': './data', 'filename': 'sample4.pdf'}\n",
      "{'type': 'Title', 'links': [], 'detection_class_prob': 0.8431911468505859, 'coordinates': {'points': [[785.4166666666666, 947.59375], [785.4166666666666, 993.7951360474176], [1044.846333897868, 993.7951360474176], [1044.846333897868, 947.59375]], 'system': 'PixelSpace', 'layout_width': 1700, 'layout_height': 2200}, 'last_modified': '2024-11-04T19:11:07', 'filetype': 'application/pdf', 'languages': ['eng'], 'page_number': 1, 'file_directory': './data', 'filename': 'sample4.pdf'}\n",
      "{'type': 'NarrativeText', 'links': [], 'detection_class_prob': 0.7361864447593689, 'coordinates': {'points': [[195.1410369873047, 247.708251953125], [195.1410369873047, 343.8650176637913], [445.8603210449219, 343.8650176637913], [445.8603210449219, 247.708251953125]], 'system': 'PixelSpace', 'layout_width': 1700, 'layout_height': 2200}, 'last_modified': '2024-11-04T19:11:07', 'filetype': 'application/pdf', 'languages': ['eng'], 'page_number': 1, 'parent_id': '3579e20ad32d793a8dd28ff5d8023da7', 'file_directory': './data', 'filename': 'sample4.pdf'}\n"
     ]
    }
   ],
   "source": [
    "for doc in vector_store.astra_env.collection.find({}):\n",
    "    print(doc[\"metadata\"])\n"
   ]
  },
  {
   "cell_type": "code",
   "execution_count": null,
   "metadata": {},
   "outputs": [
    {
     "name": "stdout",
     "output_type": "stream",
     "text": [
      "0\n"
     ]
    }
   ],
   "source": [
    "original_documents = []\n",
    "def upgrade_documents(\n",
    "    vector_store: AstraDBVectorStore,\n",
    "    batch_size = 10,\n",
    ") -> int:\n",
    "        filter = {\"upgraded\": {\"$exists\": False}}\n",
    "        chunks = vector_store.metadata_search(filter=filter, n=batch_size)\n",
    "        print(len(chunks))\n",
    "        if len(chunks) == 0:\n",
    "            return 0\n",
    "\n",
    "        id_to_md_map: dict[str, dict] = {}\n",
    "\n",
    "        for chunk in chunks:\n",
    "            original_documents.append(chunk)\n",
    "            chunk.metadata[\"upgraded\"] = True\n",
    "            id_to_md_map[chunk.id] = chunk.metadata\n",
    "        \n",
    "        vector_store.update_metadata(id_to_md_map)\n",
    "        \n",
    "        return len(chunks)\n",
    "\n",
    "while upgrade_documents(vector_store, batch_size=10) > 0:\n",
    "    pass\n"
   ]
  },
  {
   "cell_type": "code",
   "execution_count": 12,
   "metadata": {},
   "outputs": [
    {
     "name": "stderr",
     "output_type": "stream",
     "text": [
      "/Users/pedropacheco/Projects/demos/unstructured-platform/content_graph.py:285: LangChainBetaWarning: The function `add_links` is in beta. It is actively being worked on, so the API may change.\n",
      "  add_links(self.infered_parent, Link.outgoing(kind=element_type, tag=doc.id))\n"
     ]
    },
    {
     "data": {
      "text/plain": [
       "[Document(id='root', metadata={'file_date': '2024-11-05 17:40:26', 'links': [Link(kind='Image', direction='out', tag='b7cdb0075e34409ff9418ff94b025d74'), Link(kind='Title', direction='out', tag='35ccf72b73f67342fb97284be07e0de1'), Link(kind='Title', direction='out', tag='c20e14a2e6cc3abd9e3794c19db89c4e'), Link(kind='Title', direction='out', tag='e6cd9de5667b301da81d1373f90e734c'), Link(kind='Title', direction='out', tag='73c2a9d151deb9c8f6b1113cb8faad74'), Link(kind='Title', direction='out', tag='3579e20ad32d793a8dd28ff5d8023da7'), Link(kind='Title', direction='out', tag='4836a5c73aaa4ee24183d49ebc83390f'), Link(kind='Title', direction='out', tag='002f87c6560b4f412ee064375b00319d')]}, page_content='Lorem Ipsum'),\n",
       " Document(id='b7cdb0075e34409ff9418ff94b025d74', metadata={'type': 'Image', 'links': [Link(kind='Image', direction='in', tag='root')], 'coordinates': {'points': [[-2.083333333333333, 1966.6666666666665], [-2.083333333333333, 2200.0], [1702.0833333333333, 2200.0], [1702.0833333333333, 1966.6666666666665]], 'system': 'PixelSpace', 'layout_width': 1700, 'layout_height': 2200}, 'last_modified': '2024-11-04T19:11:07', 'filetype': 'application/pdf', 'languages': ['eng'], 'page_number': 2, 'image_path': 'images/figure-2-5.jpg', 'file_directory': './data', 'filename': 'sample4.pdf', 'upgraded': True}, page_content=''),\n",
       " Document(id='35ccf72b73f67342fb97284be07e0de1', metadata={'type': 'Title', 'links': [Link(kind='root', direction='in', tag='root'), Link(kind='Image', direction='out', tag='0c6140c07f5c2e92399007e8c762c4cb'), Link(kind='Image', direction='out', tag='2c3e32aafc4e37c57c9299bb1abe8cf3'), Link(kind='NarrativeText', direction='out', tag='b58ded2c0d09fcd6b1810df1f7cd9423')], 'detection_class_prob': 0.6584488749504089, 'coordinates': {'points': [[195.39285278320312, 411.7275390625], [195.39285278320312, 513.0299504884981], [937.9750366210938, 513.0299504884981], [937.9750366210938, 411.7275390625]], 'system': 'PixelSpace', 'layout_width': 1700, 'layout_height': 2200}, 'last_modified': '2024-11-04T19:11:07', 'filetype': 'application/pdf', 'languages': ['eng'], 'page_number': 1, 'file_directory': './data', 'filename': 'sample4.pdf', 'upgraded': True}, page_content='Product Brochure'),\n",
       " Document(id='0c6140c07f5c2e92399007e8c762c4cb', metadata={'type': 'Image', 'links': [Link(kind='Image', direction='in', tag='35ccf72b73f67342fb97284be07e0de1')], 'coordinates': {'points': [[-2.083333333333333, 1968.75], [-2.083333333333333, 2202.083333333333], [1702.0833333333333, 2202.083333333333], [1702.0833333333333, 1968.75]], 'system': 'PixelSpace', 'layout_width': 1700, 'layout_height': 2200}, 'last_modified': '2024-11-04T19:11:07', 'filetype': 'application/pdf', 'languages': ['eng'], 'page_number': 1, 'image_path': 'images/figure-1-3.jpg', 'file_directory': './data', 'filename': 'sample4.pdf', 'upgraded': True}, page_content=''),\n",
       " Document(id='2c3e32aafc4e37c57c9299bb1abe8cf3', metadata={'type': 'Image', 'links': [Link(kind='Image', direction='in', tag='35ccf72b73f67342fb97284be07e0de1')], 'coordinates': {'points': [[200.0, 952.0832777777778], [200.0, 1562.5], [735.416611111111, 1562.5], [735.416611111111, 952.0832777777778]], 'system': 'PixelSpace', 'layout_width': 1700, 'layout_height': 2200}, 'last_modified': '2024-11-04T19:11:07', 'filetype': 'application/pdf', 'languages': ['eng'], 'page_number': 1, 'image_path': 'images/figure-1-2.jpg', 'file_directory': './data', 'filename': 'sample4.pdf', 'upgraded': True}, page_content=''),\n",
       " Document(id='b58ded2c0d09fcd6b1810df1f7cd9423', metadata={'type': 'NarrativeText', 'links': [Link(kind='NarrativeText', direction='in', tag='35ccf72b73f67342fb97284be07e0de1')], 'detection_class_prob': 0.919620156288147, 'coordinates': {'points': [[197.91666666666666, 1700.6177978515625], [197.91666666666666, 1834.7098526487086], [1442.4452049466554, 1834.7098526487086], [1442.4452049466554, 1700.6177978515625]], 'system': 'PixelSpace', 'layout_width': 1700, 'layout_height': 2200}, 'last_modified': '2024-11-04T19:11:07', 'filetype': 'application/pdf', 'languages': ['eng'], 'page_number': 1, 'parent_id': '73c2a9d151deb9c8f6b1113cb8faad74', 'file_directory': './data', 'filename': 'sample4.pdf', 'upgraded': True}, page_content='Lorem ipsum dolor sit amet, consectetuer adipiscing elit, sed diam nonummy nibh euismod tincidunt ut laoreet dolore magna aliquam erat volutpat. Ut wisi enim ad minim veniam, quis nostrud exerci tation ullamcorper suscipit lobortis nisl ut aliquip ex ea commodo consequat.'),\n",
       " Document(id='c20e14a2e6cc3abd9e3794c19db89c4e', metadata={'type': 'Title', 'links': [Link(kind='root', direction='in', tag='root'), Link(kind='Image', direction='out', tag='8a137031615c0f20b771cfe3956d57f8'), Link(kind='Image', direction='out', tag='b5906a2b13ee1bbfb62f054bd10f61f2'), Link(kind='Header', direction='out', tag='ae823f07134a0ee9e668bef86d2caa08'), Link(kind='NarrativeText', direction='out', tag='441d6021d20dac79ddd32d9e17568dc8'), Link(kind='NarrativeText', direction='out', tag='935fdcf8ba2e601348691f23784106a0')], 'detection_class_prob': 0.8070774078369141, 'coordinates': {'points': [[784.7552490234375, 1314.323974609375], [784.7552490234375, 1349.1657974583334], [981.9907836914062, 1349.1657974583334], [981.9907836914062, 1314.323974609375]], 'system': 'PixelSpace', 'layout_width': 1700, 'layout_height': 2200}, 'last_modified': '2024-11-04T19:11:07', 'filetype': 'application/pdf', 'languages': ['eng'], 'page_number': 1, 'file_directory': './data', 'filename': 'sample4.pdf', 'upgraded': True}, page_content='Lorem ipsum'),\n",
       " Document(id='8a137031615c0f20b771cfe3956d57f8', metadata={'type': 'Image', 'links': [Link(kind='Image', direction='in', tag='c20e14a2e6cc3abd9e3794c19db89c4e')], 'coordinates': {'points': [[1202.0833333333333, 0], [1202.0833333333333, 500.0], [1702.0833333333333, 500.0], [1702.0833333333333, 0]], 'system': 'PixelSpace', 'layout_width': 1700, 'layout_height': 2200}, 'last_modified': '2024-11-04T19:11:07', 'filetype': 'application/pdf', 'languages': ['eng'], 'page_number': 1, 'image_path': 'images/figure-1-1.jpg', 'file_directory': './data', 'filename': 'sample4.pdf', 'upgraded': True}, page_content=''),\n",
       " Document(id='b5906a2b13ee1bbfb62f054bd10f61f2', metadata={'type': 'Image', 'links': [Link(kind='Image', direction='in', tag='c20e14a2e6cc3abd9e3794c19db89c4e')], 'coordinates': {'points': [[1452.0833333333333, 0], [1452.0833333333333, 250.0], [1702.0833333333333, 250.0], [1702.0833333333333, 0]], 'system': 'PixelSpace', 'layout_width': 1700, 'layout_height': 2200}, 'last_modified': '2024-11-04T19:11:07', 'filetype': 'application/pdf', 'languages': ['eng'], 'page_number': 2, 'image_path': 'images/figure-2-4.jpg', 'file_directory': './data', 'filename': 'sample4.pdf', 'upgraded': True}, page_content=''),\n",
       " Document(id='ae823f07134a0ee9e668bef86d2caa08', metadata={'type': 'Header', 'links': [Link(kind='Header', direction='in', tag='c20e14a2e6cc3abd9e3794c19db89c4e')], 'detection_class_prob': 0.7280166149139404, 'coordinates': {'points': [[197.34747314453125, 132.3511505126953], [197.34747314453125, 165.83247100000006], [216.63411466666665, 165.83247100000006], [216.63411466666665, 132.3511505126953]], 'system': 'PixelSpace', 'layout_width': 1700, 'layout_height': 2200}, 'last_modified': '2024-11-04T19:11:07', 'filetype': 'application/pdf', 'languages': ['eng'], 'page_number': 2, 'file_directory': './data', 'filename': 'sample4.pdf', 'upgraded': True}, page_content='2'),\n",
       " Document(id='441d6021d20dac79ddd32d9e17568dc8', metadata={'type': 'NarrativeText', 'links': [Link(kind='NarrativeText', direction='in', tag='c20e14a2e6cc3abd9e3794c19db89c4e')], 'detection_class_prob': 0.9496526122093201, 'coordinates': {'points': [[197.51266479492188, 758.4445190429688], [197.51266479492188, 997.2098526487088], [1478.2836073864346, 997.2098526487088], [1478.2836073864346, 758.4445190429688]], 'system': 'PixelSpace', 'layout_width': 1700, 'layout_height': 2200}, 'last_modified': '2024-11-04T19:11:07', 'filetype': 'application/pdf', 'languages': ['eng'], 'page_number': 2, 'parent_id': '4836a5c73aaa4ee24183d49ebc83390f', 'file_directory': './data', 'filename': 'sample4.pdf', 'upgraded': True}, page_content='Lorem ipsum dolor sit amet, consectetuer adipiscing elit, sed diam nonummy nibh euismod tincidunt ut laoreet dolore magna aliquam erat volutpat. Ut wisi enim ad minim veniam, quis nostrud exerci tation ullamcorper suscipit lobortis nisl ut aliquip ex ea commodo consequat. Duis autem vel eum iriure dolor in hendrerit in vulputate velit esse molestie consequat, vel illum dolore eu feugiat nulla facilisis at vero eros et accumsan.'),\n",
       " Document(id='935fdcf8ba2e601348691f23784106a0', metadata={'type': 'NarrativeText', 'links': [Link(kind='NarrativeText', direction='in', tag='c20e14a2e6cc3abd9e3794c19db89c4e')], 'detection_class_prob': 0.9381678104400635, 'coordinates': {'points': [[197.91666666666666, 762.22021484375], [197.91666666666666, 897.2098526487088], [1442.4452049466554, 897.2098526487088], [1442.4452049466554, 762.22021484375]], 'system': 'PixelSpace', 'layout_width': 1700, 'layout_height': 2200}, 'last_modified': '2024-11-04T19:11:07', 'filetype': 'application/pdf', 'languages': ['eng'], 'page_number': 1, 'parent_id': 'e6cd9de5667b301da81d1373f90e734c', 'file_directory': './data', 'filename': 'sample4.pdf', 'upgraded': True}, page_content='Lorem ipsum dolor sit amet, consectetuer adipiscing elit, sed diam nonummy nibh euismod tincidunt ut laoreet dolore magna aliquam erat volutpat. Ut wisi enim ad minim veniam, quis nostrud exerci tation ullamcorper suscipit lobortis nisl ut aliquip ex ea commodo consequat.'),\n",
       " Document(id='e6cd9de5667b301da81d1373f90e734c', metadata={'type': 'Title', 'links': [Link(kind='root', direction='in', tag='root'), Link(kind='NarrativeText', direction='out', tag='bc5e09f692d6cf4ac05d9e6d84ecf9ca')], 'detection_class_prob': 0.8636807203292847, 'coordinates': {'points': [[197.91666666666666, 666.4296875], [197.91666666666666, 728.5748742500001], [653.0220947265625, 728.5748742500001], [653.0220947265625, 666.4296875]], 'system': 'PixelSpace', 'layout_width': 1700, 'layout_height': 2200}, 'last_modified': '2024-11-04T19:11:07', 'filetype': 'application/pdf', 'languages': ['eng'], 'page_number': 1, 'file_directory': './data', 'filename': 'sample4.pdf', 'upgraded': True}, page_content='Product Overview'),\n",
       " Document(id='bc5e09f692d6cf4ac05d9e6d84ecf9ca', metadata={'type': 'NarrativeText', 'links': [Link(kind='NarrativeText', direction='in', tag='e6cd9de5667b301da81d1373f90e734c')], 'detection_class_prob': 0.941511332988739, 'coordinates': {'points': [[785.4166666666666, 1382.915283203125], [785.4166666666666, 1570.1265193153754], [1451.5125732421875, 1570.1265193153754], [1451.5125732421875, 1382.915283203125]], 'system': 'PixelSpace', 'layout_width': 1700, 'layout_height': 2200}, 'last_modified': '2024-11-04T19:11:07', 'filetype': 'application/pdf', 'languages': ['eng'], 'page_number': 1, 'parent_id': 'c20e14a2e6cc3abd9e3794c19db89c4e', 'file_directory': './data', 'filename': 'sample4.pdf', 'upgraded': True}, page_content='Duis autem vel eum iriure dolor in hendrerit in vulputate velit esse molestie consequat, vel illum dolore eu feugiat nulla facilisis at vero eros et accumsan.'),\n",
       " Document(id='73c2a9d151deb9c8f6b1113cb8faad74', metadata={'type': 'Title', 'links': [Link(kind='root', direction='in', tag='root'), Link(kind='NarrativeText', direction='out', tag='c350ce92d1a85844e3195a7f97174afb')], 'detection_class_prob': 0.8328118920326233, 'coordinates': {'points': [[194.70135498046875, 1617.95751953125], [194.70135498046875, 1666.7118027140841], [365.1525573730469, 1666.7118027140841], [365.1525573730469, 1617.95751953125]], 'system': 'PixelSpace', 'layout_width': 1700, 'layout_height': 2200}, 'last_modified': '2024-11-04T19:11:07', 'filetype': 'application/pdf', 'languages': ['eng'], 'page_number': 1, 'file_directory': './data', 'filename': 'sample4.pdf', 'upgraded': True}, page_content='Dolor sit'),\n",
       " Document(id='c350ce92d1a85844e3195a7f97174afb', metadata={'type': 'NarrativeText', 'links': [Link(kind='NarrativeText', direction='in', tag='73c2a9d151deb9c8f6b1113cb8faad74')], 'detection_class_prob': 0.9505614638328552, 'coordinates': {'points': [[785.4166666666666, 1025.6669921875], [785.4166666666666, 1265.9598526487086], [1479.8175048828125, 1265.9598526487086], [1479.8175048828125, 1025.6669921875]], 'system': 'PixelSpace', 'layout_width': 1700, 'layout_height': 2200}, 'last_modified': '2024-11-04T19:11:07', 'filetype': 'application/pdf', 'languages': ['eng'], 'page_number': 1, 'file_directory': './data', 'filename': 'sample4.pdf', 'upgraded': True}, page_content='Nam liber tempor cum soluta nobis eleifend option congue nihil imperdiet doming id quod mazim placerat facer possim assum. Typi non habent claritatem insitam; est usus legentis in iis qui facit eorum claritatem.'),\n",
       " Document(id='3579e20ad32d793a8dd28ff5d8023da7', metadata={'type': 'Title', 'links': [Link(kind='root', direction='in', tag='root'), Link(kind='NarrativeText', direction='out', tag='39324654c968eb3357caf516e5f7f294')], 'detection_class_prob': 0.7488299608230591, 'coordinates': {'points': [[197.30868530273438, 157.51976013183594], [197.30868530273438, 216.89670199424899], [564.1777954101562, 216.89670199424899], [564.1777954101562, 157.51976013183594]], 'system': 'PixelSpace', 'layout_width': 1700, 'layout_height': 2200}, 'last_modified': '2024-11-04T19:11:07', 'filetype': 'application/pdf', 'languages': ['eng'], 'page_number': 1, 'file_directory': './data', 'filename': 'sample4.pdf', 'upgraded': True}, page_content='Your Company'),\n",
       " Document(id='39324654c968eb3357caf516e5f7f294', metadata={'type': 'NarrativeText', 'links': [Link(kind='NarrativeText', direction='in', tag='3579e20ad32d793a8dd28ff5d8023da7')], 'detection_class_prob': 0.6961357593536377, 'coordinates': {'points': [[197.91666666666666, 541.7613525390625], [197.91666666666666, 577.070965044542], [477.94036865234375, 577.070965044542], [477.94036865234375, 541.7613525390625]], 'system': 'PixelSpace', 'layout_width': 1700, 'layout_height': 2200}, 'last_modified': '2024-11-04T19:11:07', 'filetype': 'application/pdf', 'languages': ['eng'], 'page_number': 1, 'parent_id': '35ccf72b73f67342fb97284be07e0de1', 'file_directory': './data', 'filename': 'sample4.pdf', 'upgraded': True}, page_content='September 04, 20XX'),\n",
       " Document(id='4836a5c73aaa4ee24183d49ebc83390f', metadata={'type': 'Title', 'links': [Link(kind='root', direction='in', tag='root'), Link(kind='NarrativeText', direction='out', tag='ec4e566681062b3415e6e140502beb8b')], 'detection_class_prob': 0.8497405052185059, 'coordinates': {'points': [[191.45082092285156, 270.5783386230469], [191.45082092285156, 332.7415409166668], [378.80419921875, 332.7415409166668], [378.80419921875, 270.5783386230469]], 'system': 'PixelSpace', 'layout_width': 1700, 'layout_height': 2200}, 'last_modified': '2024-11-04T19:11:07', 'filetype': 'application/pdf', 'languages': ['eng'], 'page_number': 2, 'parent_id': 'ae823f07134a0ee9e668bef86d2caa08', 'file_directory': './data', 'filename': 'sample4.pdf', 'upgraded': True}, page_content='Details'),\n",
       " Document(id='ec4e566681062b3415e6e140502beb8b', metadata={'type': 'NarrativeText', 'links': [Link(kind='NarrativeText', direction='in', tag='4836a5c73aaa4ee24183d49ebc83390f')], 'detection_class_prob': 0.9483880996704102, 'coordinates': {'points': [[195.46563720703125, 367.3487421278755], [195.46563720703125, 709.7098526487088], [1489.069621816406, 709.7098526487088], [1489.069621816406, 367.3487421278755]], 'system': 'PixelSpace', 'layout_width': 1700, 'layout_height': 2200}, 'last_modified': '2024-11-04T19:11:07', 'filetype': 'application/pdf', 'languages': ['eng'], 'page_number': 2, 'parent_id': '4836a5c73aaa4ee24183d49ebc83390f', 'file_directory': './data', 'filename': 'sample4.pdf', 'upgraded': True}, page_content='Nam liber tempor cum soluta nobis eleifend option congue nihil imperdiet doming id quod mazim placerat facer possim assum. Typi non habent claritatem insitam; est usus legentis in iis qui facit eorum claritatem. Investigationes demonstraverunt lectores legere me lius quod ii legunt saepius. Lorem ipsum dolor sit amet, consectetuer adipiscing elit, sed diam nonummy nibh euismod tincidunt ut laoreet dolore magna aliquam erat volutpat. Ut wisi enim ad minim veniam, quis nostrud exerci tation ullamcorper suscipit lobortis nisl ut aliquip ex ea commodo consequat.'),\n",
       " Document(id='002f87c6560b4f412ee064375b00319d', metadata={'type': 'Title', 'links': [Link(kind='root', direction='in', tag='root'), Link(kind='NarrativeText', direction='out', tag='80e8c329a3a621b91a31bcf97ff3334f')], 'detection_class_prob': 0.8431911468505859, 'coordinates': {'points': [[785.4166666666666, 947.59375], [785.4166666666666, 993.7951360474176], [1044.846333897868, 993.7951360474176], [1044.846333897868, 947.59375]], 'system': 'PixelSpace', 'layout_width': 1700, 'layout_height': 2200}, 'last_modified': '2024-11-04T19:11:07', 'filetype': 'application/pdf', 'languages': ['eng'], 'page_number': 1, 'file_directory': './data', 'filename': 'sample4.pdf', 'upgraded': True}, page_content='Lorem ipsum'),\n",
       " Document(id='80e8c329a3a621b91a31bcf97ff3334f', metadata={'type': 'NarrativeText', 'links': [Link(kind='NarrativeText', direction='in', tag='002f87c6560b4f412ee064375b00319d')], 'detection_class_prob': 0.7361864447593689, 'coordinates': {'points': [[195.1410369873047, 247.708251953125], [195.1410369873047, 343.8650176637913], [445.8603210449219, 343.8650176637913], [445.8603210449219, 247.708251953125]], 'system': 'PixelSpace', 'layout_width': 1700, 'layout_height': 2200}, 'last_modified': '2024-11-04T19:11:07', 'filetype': 'application/pdf', 'languages': ['eng'], 'page_number': 1, 'parent_id': '3579e20ad32d793a8dd28ff5d8023da7', 'file_directory': './data', 'filename': 'sample4.pdf', 'upgraded': True}, page_content='123 Your Street Your City, ST 12345 (123) 456 - 7890')]"
      ]
     },
     "execution_count": 12,
     "metadata": {},
     "output_type": "execute_result"
    }
   ],
   "source": [
    "import sys\n",
    "sys.path.append(\"/Users/pedropacheco/Projects/demos/unstructured-platform\")\n",
    "\n",
    "from content_graph import ContentGraph  # Import after modifying the path\n",
    "g = ContentGraph(\"Lorem Ipsum\")\n",
    "g.fromLangChainDocuments(\n",
    "    documents=original_documents,\n",
    "    output_image_path=\"./images\",\n",
    "    reset_graph=True,\n",
    "    infer_hierarchy=True,\n",
    ")\n",
    "g.graph\n",
    "\n"
   ]
  },
  {
   "cell_type": "code",
   "execution_count": 13,
   "metadata": {},
   "outputs": [],
   "source": [
    "from langchain_astradb.graph_vectorstores import AstraDBGraphVectorStore\n"
   ]
  },
  {
   "cell_type": "code",
   "execution_count": 14,
   "metadata": {},
   "outputs": [
    {
     "name": "stderr",
     "output_type": "stream",
     "text": [
      "/var/folders/hr/bsttdbns4nn9l1g54smlh_mr0000gn/T/ipykernel_7586/2284878841.py:3: LangChainBetaWarning: The class `AstraDBGraphVectorStore` is in beta. It is actively being worked on, so the API may change.\n",
      "  graph_vector_store = AstraDBGraphVectorStore(\n"
     ]
    }
   ],
   "source": [
    "from langchain_astradb import AstraDBVectorStore\n",
    "\n",
    "graph_vector_store = AstraDBGraphVectorStore(\n",
    "    collection_name=\"unstructure_elements_graph\",\n",
    "    embedding=embeddings,\n",
    "    api_endpoint=ASTRA_DB_API_ENDPOINT,\n",
    "    token=ASTRA_DB_APPLICATION_TOKEN,\n",
    "    namespace=ASTRA_DB_KEYSPACE,\n",
    ")\n"
   ]
  },
  {
   "cell_type": "code",
   "execution_count": 15,
   "metadata": {},
   "outputs": [
    {
     "data": {
      "text/plain": [
       "['root',\n",
       " 'b7cdb0075e34409ff9418ff94b025d74',\n",
       " '35ccf72b73f67342fb97284be07e0de1',\n",
       " '0c6140c07f5c2e92399007e8c762c4cb',\n",
       " '2c3e32aafc4e37c57c9299bb1abe8cf3',\n",
       " 'b58ded2c0d09fcd6b1810df1f7cd9423',\n",
       " 'c20e14a2e6cc3abd9e3794c19db89c4e',\n",
       " '8a137031615c0f20b771cfe3956d57f8',\n",
       " 'b5906a2b13ee1bbfb62f054bd10f61f2',\n",
       " 'ae823f07134a0ee9e668bef86d2caa08',\n",
       " '441d6021d20dac79ddd32d9e17568dc8',\n",
       " '935fdcf8ba2e601348691f23784106a0',\n",
       " 'e6cd9de5667b301da81d1373f90e734c',\n",
       " 'bc5e09f692d6cf4ac05d9e6d84ecf9ca',\n",
       " '73c2a9d151deb9c8f6b1113cb8faad74',\n",
       " 'c350ce92d1a85844e3195a7f97174afb',\n",
       " '3579e20ad32d793a8dd28ff5d8023da7',\n",
       " '39324654c968eb3357caf516e5f7f294',\n",
       " '4836a5c73aaa4ee24183d49ebc83390f',\n",
       " 'ec4e566681062b3415e6e140502beb8b',\n",
       " '002f87c6560b4f412ee064375b00319d',\n",
       " '80e8c329a3a621b91a31bcf97ff3334f']"
      ]
     },
     "execution_count": 15,
     "metadata": {},
     "output_type": "execute_result"
    }
   ],
   "source": [
    "graph_vector_store.add_documents(g.graph)\n"
   ]
  },
  {
   "cell_type": "code",
   "execution_count": null,
   "metadata": {},
   "outputs": [],
   "source": [
    "g.graph[1].metadata[\"links\"]\n"
   ]
  }
 ],
 "metadata": {
  "kernelspec": {
   "display_name": ".venv",
   "language": "python",
   "name": "python3"
  },
  "language_info": {
   "codemirror_mode": {
    "name": "ipython",
    "version": 3
   },
   "file_extension": ".py",
   "mimetype": "text/x-python",
   "name": "python",
   "nbconvert_exporter": "python",
   "pygments_lexer": "ipython3",
   "version": "3.11.10"
  }
 },
 "nbformat": 4,
 "nbformat_minor": 2
}
