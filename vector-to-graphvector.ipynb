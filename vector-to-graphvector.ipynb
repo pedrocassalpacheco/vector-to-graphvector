{
 "cells": [
  {
   "cell_type": "code",
   "execution_count": 7,
   "metadata": {},
   "outputs": [
    {
     "name": "stdout",
     "output_type": "stream",
     "text": [
      "Note: you may need to restart the kernel to use updated packages.\n"
     ]
    }
   ],
   "source": [
    "%pip install -q -r requirements.txt\n"
   ]
  },
  {
   "cell_type": "code",
   "execution_count": 8,
   "metadata": {},
   "outputs": [],
   "source": [
    "import logging\n",
    "logging.basicConfig(level=logging.ERROR)\n",
    "logger = logging.getLogger(__name__)\n"
   ]
  },
  {
   "cell_type": "code",
   "execution_count": null,
   "metadata": {},
   "outputs": [],
   "source": [
    "from dotenv import load_dotenv\n",
    "import os\n",
    "\n",
    "load_dotenv()\n",
    "OPENAI_API_KEY = os.getenv(\"OPENAI_API_KEY\")\n",
    "ASTRA_DB_API_ENDPOINT = os.getenv(\"ASTRA_DB_API_ENDPOINT\")\n",
    "ASTRA_DB_DATABASE_ID = os.getenv(\"ASTRA_DB_DATABASE_ID\")\n",
    "ASTRA_DB_APPLICATION_TOKEN = os.getenv(\"ASTRA_DB_APPLICATION_TOKEN\")\n",
    "ASTRA_DB_KEYSPACE = os.getenv(\"ASTRA_DB_KEYSPACE\")\n",
    "\n",
    " "
   ]
  },
  {
   "cell_type": "code",
   "execution_count": null,
   "metadata": {},
   "outputs": [],
   "source": [
    "from langchain_openai import OpenAIEmbeddings\n",
    "embeddings = OpenAIEmbeddings(model=\"text-embedding-3-large\")\n"
   ]
  },
  {
   "cell_type": "code",
   "execution_count": null,
   "metadata": {},
   "outputs": [],
   "source": [
    "from langchain_astradb import AstraDBVectorStore\n",
    "\n",
    "vector_store = AstraDBVectorStore(\n",
    "    collection_name=\"unstructure_elements\",\n",
    "    embedding=embeddings,\n",
    "    api_endpoint=ASTRA_DB_API_ENDPOINT,\n",
    "    token=ASTRA_DB_APPLICATION_TOKEN,\n",
    "    namespace=ASTRA_DB_KEYSPACE,\n",
    ")\n"
   ]
  },
  {
   "cell_type": "code",
   "execution_count": null,
   "metadata": {},
   "outputs": [],
   "source": [
    "from langchain_core.documents import Document\n",
    "from unstructured.documents.elements import Element\n",
    "def element_to_document(element: Element) -> Document:\n",
    "    return Document(\n",
    "        id=element.id,\n",
    "        page_content=element.text,\n",
    "        metadata={\n",
    "            \"type\": type(element).__name__,\n",
    "            \"links\": [],\n",
    "            **element.metadata.to_dict(),\n",
    "        },\n",
    "    )\n"
   ]
  },
  {
   "cell_type": "code",
   "execution_count": null,
   "metadata": {},
   "outputs": [],
   "source": [
    "from unstructured.partition.pdf import partition_pdf\n",
    "\n",
    "elements = partition_pdf(\n",
    "    filename=\"./data/sample4.pdf\",\n",
    "    extract_images_in_pdf=True,\n",
    "    infer_table_structure=True,\n",
    "    max_characters=2000,\n",
    "    new_after_n_chars=1700,\n",
    "    extract_image_block_output_dir=\"images/\",\n",
    ")\n"
   ]
  },
  {
   "cell_type": "code",
   "execution_count": null,
   "metadata": {},
   "outputs": [],
   "source": [
    "docs = []\n",
    "for element in elements:\n",
    "        try:\n",
    "            element_type = type(element).__name__\n",
    "            doc = element_to_document(element)\n",
    "            docs.append(doc)\n",
    "        except Exception as e:\n",
    "            print(\n",
    "                f\"An error occurred while processing element {element.id}: {e}\"\n",
    "            )\n",
    "            break\n",
    "\n"
   ]
  },
  {
   "cell_type": "code",
   "execution_count": null,
   "metadata": {},
   "outputs": [],
   "source": [
    "vector_store.add_documents(docs)\n"
   ]
  },
  {
   "cell_type": "code",
   "execution_count": null,
   "metadata": {},
   "outputs": [],
   "source": [
    "for doc in vector_store.astra_env.collection.find({}):\n",
    "    print(doc[\"metadata\"])\n"
   ]
  },
  {
   "cell_type": "code",
   "execution_count": 9,
   "metadata": {},
   "outputs": [
    {
     "ename": "NameError",
     "evalue": "name 'AstraDBVectorStore' is not defined",
     "output_type": "error",
     "traceback": [
      "\u001b[0;31m---------------------------------------------------------------------------\u001b[0m",
      "\u001b[0;31mNameError\u001b[0m                                 Traceback (most recent call last)",
      "Cell \u001b[0;32mIn[9], line 3\u001b[0m\n\u001b[1;32m      1\u001b[0m original_documents \u001b[38;5;241m=\u001b[39m []\n\u001b[1;32m      2\u001b[0m \u001b[38;5;28;01mdef\u001b[39;00m \u001b[38;5;21mupgrade_documents\u001b[39m(\n\u001b[0;32m----> 3\u001b[0m     vector_store: \u001b[43mAstraDBVectorStore\u001b[49m,\n\u001b[1;32m      4\u001b[0m     batch_size \u001b[38;5;241m=\u001b[39m \u001b[38;5;241m10\u001b[39m,\n\u001b[1;32m      5\u001b[0m ) \u001b[38;5;241m-\u001b[39m\u001b[38;5;241m>\u001b[39m \u001b[38;5;28mint\u001b[39m:\n\u001b[1;32m      6\u001b[0m         \u001b[38;5;28mfilter\u001b[39m \u001b[38;5;241m=\u001b[39m {\u001b[38;5;124m\"\u001b[39m\u001b[38;5;124mupgraded\u001b[39m\u001b[38;5;124m\"\u001b[39m: {\u001b[38;5;124m\"\u001b[39m\u001b[38;5;124m$exists\u001b[39m\u001b[38;5;124m\"\u001b[39m: \u001b[38;5;28;01mFalse\u001b[39;00m}}\n\u001b[1;32m      7\u001b[0m         chunks \u001b[38;5;241m=\u001b[39m vector_store\u001b[38;5;241m.\u001b[39mmetadata_search(\u001b[38;5;28mfilter\u001b[39m\u001b[38;5;241m=\u001b[39m\u001b[38;5;28mfilter\u001b[39m, n\u001b[38;5;241m=\u001b[39mbatch_size)\n",
      "\u001b[0;31mNameError\u001b[0m: name 'AstraDBVectorStore' is not defined"
     ]
    }
   ],
   "source": [
    "original_documents = []\n",
    "def upgrade_documents(\n",
    "    vector_store: AstraDBVectorStore,\n",
    "    batch_size = 10,\n",
    ") -> int:\n",
    "        filter = {\"upgraded\": {\"$exists\": False}}\n",
    "        chunks = vector_store.metadata_search(filter=filter, n=batch_size)\n",
    "        print(len(chunks))\n",
    "        if len(chunks) == 0:\n",
    "            return 0\n",
    "\n",
    "        id_to_md_map: dict[str, dict] = {}\n",
    "\n",
    "        for chunk in chunks:\n",
    "            original_documents.append(chunk)\n",
    "            chunk.metadata[\"upgraded\"] = True\n",
    "            id_to_md_map[chunk.id] = chunk.metadata\n",
    "        \n",
    "        vector_store.update_metadata(id_to_md_map)\n",
    "        \n",
    "        return len(chunks)\n",
    "\n",
    "while upgrade_documents(vector_store, batch_size=10) > 0:\n",
    "    pass\n"
   ]
  },
  {
   "cell_type": "code",
   "execution_count": null,
   "metadata": {},
   "outputs": [],
   "source": [
    "import sys\n",
    "sys.path.append(\"/Users/pedropacheco/Projects/demos/unstructured-platform\")\n",
    "\n",
    "from content_graph import ContentGraph  # Import after modifying the path\n",
    "g = ContentGraph(\"Lorem Ipsum\")\n",
    "g.fromLangChainDocuments(\n",
    "    documents=original_documents,\n",
    "    output_image_path=\"./images\",\n",
    "    reset_graph=True,\n",
    "    infer_hierarchy=True,\n",
    ")\n",
    "g.graph\n",
    "\n"
   ]
  },
  {
   "cell_type": "code",
   "execution_count": null,
   "metadata": {},
   "outputs": [],
   "source": [
    "from langchain_astradb.graph_vectorstores import AstraDBGraphVectorStore\n"
   ]
  },
  {
   "cell_type": "code",
   "execution_count": null,
   "metadata": {},
   "outputs": [],
   "source": [
    "from langchain_astradb import AstraDBVectorStore\n",
    "\n",
    "graph_vector_store = AstraDBGraphVectorStore(\n",
    "    collection_name=\"unstructure_elements_graph\",\n",
    "    embedding=embeddings,\n",
    "    api_endpoint=ASTRA_DB_API_ENDPOINT,\n",
    "    token=ASTRA_DB_APPLICATION_TOKEN,\n",
    "    namespace=ASTRA_DB_KEYSPACE,\n",
    ")\n"
   ]
  },
  {
   "cell_type": "code",
   "execution_count": null,
   "metadata": {},
   "outputs": [],
   "source": [
    "graph_vector_store.add_documents(g.graph)\n"
   ]
  }
 ],
 "metadata": {
  "kernelspec": {
   "display_name": ".venv",
   "language": "python",
   "name": "python3"
  },
  "language_info": {
   "codemirror_mode": {
    "name": "ipython",
    "version": 3
   },
   "file_extension": ".py",
   "mimetype": "text/x-python",
   "name": "python",
   "nbconvert_exporter": "python",
   "pygments_lexer": "ipython3",
   "version": "3.11.10"
  }
 },
 "nbformat": 4,
 "nbformat_minor": 2
}
