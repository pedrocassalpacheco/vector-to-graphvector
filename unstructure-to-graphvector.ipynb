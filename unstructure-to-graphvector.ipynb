{
 "cells": [
  {
   "cell_type": "code",
   "execution_count": 1,
   "metadata": {},
   "outputs": [
    {
     "name": "stdout",
     "output_type": "stream",
     "text": [
      "Note: you may need to restart the kernel to use updated packages.\n"
     ]
    }
   ],
   "source": [
    "%pip install -q -r requirements.txt\n"
   ]
  },
  {
   "cell_type": "code",
   "execution_count": null,
   "metadata": {},
   "outputs": [],
   "source": [
    "# Remove any existing handlers\n",
    "for logger_name in logging.root.manager.loggerDict:\n",
    "    logger = logging.getLogger(logger_name)\n",
    "    logger.setLevel(logging.ERROR)\n",
    "    logger.propagate = False\n",
    "    logger.handlers = []\n",
    "\n",
    "# Configure the root logger\n",
    "logging.basicConfig(level=logging.ERROR)\n",
    "logger = logging.getLogger(__name__)\n",
    "logger.setLevel(logging.ERROR)\n"
   ]
  },
  {
   "cell_type": "code",
   "execution_count": 3,
   "metadata": {},
   "outputs": [],
   "source": [
    "from dotenv import load_dotenv\n",
    "import os\n",
    "\n",
    "load_dotenv()\n",
    "OPENAI_API_KEY = os.getenv(\"OPENAI_API_KEY\")\n",
    "ASTRA_DB_API_ENDPOINT = os.getenv(\"ASTRA_DB_API_ENDPOINT\")\n",
    "ASTRA_DB_DATABASE_ID = os.getenv(\"ASTRA_DB_DATABASE_ID\")\n",
    "ASTRA_DB_APPLICATION_TOKEN = os.getenv(\"ASTRA_DB_APPLICATION_TOKEN\")\n",
    "ASTRA_DB_KEYSPACE = os.getenv(\"ASTRA_DB_KEYSPACE\")\n",
    "ASTRA_DB_COLLECTION = os.getenv(\"ASTRA_DB_COLLECTION\")\n",
    "ASTRA_DB_EMBEDDING_DIMENSIONS = os.getenv(\"ASTRA_DB_EMBEDDING_DIMENSIONS\")\n",
    "UNSTRUCTURED_API_KEY = os.getenv(\"UNSTRUCTURED_API_KEY\")\n",
    "UNSTRUCTURED_API_URL = os.getenv(\"UNSTRUCTURED_API_URL\")\n"
   ]
  },
  {
   "cell_type": "code",
   "execution_count": 4,
   "metadata": {},
   "outputs": [
    {
     "name": "stderr",
     "output_type": "stream",
     "text": [
      "/var/folders/hr/bsttdbns4nn9l1g54smlh_mr0000gn/T/ipykernel_5495/2296959900.py:4: LangChainDeprecationWarning: The class `HuggingFaceEmbeddings` was deprecated in LangChain 0.2.2 and will be removed in 1.0. An updated version of the class exists in the :class:`~langchain-huggingface package and should be used instead. To use it run `pip install -U :class:`~langchain-huggingface` and import as `from :class:`~langchain_huggingface import HuggingFaceEmbeddings``.\n",
      "  hf_embeddings = HuggingFaceEmbeddings(model_name=\"sentence-transformers/all-MiniLM-L6-v2\")\n"
     ]
    },
    {
     "name": "stdout",
     "output_type": "stream",
     "text": [
      "Embeddings: 384\n"
     ]
    }
   ],
   "source": [
    "from langchain.embeddings import HuggingFaceEmbeddings\n",
    "\n",
    "# Initialize HuggingFaceEmbeddings with a model of your choice\n",
    "hf_embeddings = HuggingFaceEmbeddings(model_name=\"sentence-transformers/all-MiniLM-L6-v2\")\n",
    "\n",
    "# Test embedding dimensions\n",
    "texts = [\"Lorem ipsum dolor sit amet, consectetur adipiscing elit, sed do eiusmod tempor incididunt ut labore et dolore magna aliqua\"]\n",
    "text_embeddings = hf_embeddings.embed_documents(texts)\n",
    "\n",
    "print(\"Embeddings:\", len(text_embeddings[0]))\n"
   ]
  },
  {
   "cell_type": "code",
   "execution_count": 5,
   "metadata": {},
   "outputs": [
    {
     "name": "stdout",
     "output_type": "stream",
     "text": [
      "Embeddings: 3072\n"
     ]
    }
   ],
   "source": [
    "from langchain_openai import OpenAIEmbeddings\n",
    "oi_embeddings = OpenAIEmbeddings(model=\"text-embedding-3-large\")\n",
    "\n",
    "texts = [\"Lorem ipsum dolor sit amet, consectetur adipiscing elit, sed do eiusmod tempor incididunt ut labore et dolore magna aliqua\"]\n",
    "text_embeddings = oi_embeddings.embed_documents(texts)\n",
    "\n",
    "print(\"Embeddings:\", len(text_embeddings[0]))\n"
   ]
  },
  {
   "cell_type": "code",
   "execution_count": 6,
   "metadata": {},
   "outputs": [],
   "source": [
    "from langchain_astradb import AstraDBVectorStore\n",
    "def astradb(emdeggings, collection_name, clear=True):\n",
    "    print(f\"Creating vector store {collection_name} in AstraDB\")\n",
    "    vector_store = AstraDBVectorStore(\n",
    "        collection_name=collection_name,\n",
    "        embedding=hf_embeddings,\n",
    "        api_endpoint=ASTRA_DB_API_ENDPOINT,\n",
    "        token=ASTRA_DB_APPLICATION_TOKEN,\n",
    "        namespace=ASTRA_DB_KEYSPACE,\n",
    "    )\n",
    "    \n",
    "    vector_store.clear() \n",
    "    print(f\"Vector store {vector_store.astra_env.collection} created in AstraDB\")\n",
    "    return vector_store\n"
   ]
  },
  {
   "cell_type": "code",
   "execution_count": 7,
   "metadata": {},
   "outputs": [],
   "source": [
    "from unstructured_ingest.v2.pipeline.pipeline import Pipeline\n",
    "from unstructured_ingest.v2.interfaces import ProcessorConfig\n",
    "\n",
    "from unstructured_ingest.v2.processes.connectors.astradb import (\n",
    "    AstraDBConnectionConfig,\n",
    "    AstraDBAccessConfig,\n",
    "    AstraDBUploadStagerConfig,\n",
    "    AstraDBUploaderConfig\n",
    ")\n",
    "from unstructured_ingest.v2.processes.connectors.local import (\n",
    "    LocalIndexerConfig,\n",
    "    LocalDownloaderConfig,\n",
    "    LocalConnectionConfig\n",
    ")\n",
    "from unstructured_ingest.v2.processes.partitioner import PartitionerConfig\n",
    "from unstructured_ingest.v2.processes.chunker import ChunkerConfig\n",
    "from unstructured_ingest.interfaces import ChunkingConfig\n",
    "from unstructured_ingest.v2.processes.embedder import EmbedderConfig\n",
    "\n",
    "def unstructured(strategy, collection_name, special_case=False):\n",
    "    print(f\"Parsing documents for stratygy {strategy}\")\n",
    "    print(f\"Uploading to collection {collection_name}\")\n",
    "    \n",
    "    if strategy != \"by_element\":        \n",
    "        local_chunker_config = ChunkerConfig(chunking_strategy=strategy)\n",
    "    else:\n",
    "        local_chunker_config = ChunkerConfig(chunk_elements=True)\n",
    "        \n",
    "    Pipeline.from_configs(\n",
    "        context=ProcessorConfig(),\n",
    "        indexer_config=LocalIndexerConfig(input_path=\"./ingest\"),\n",
    "        downloader_config=LocalDownloaderConfig(),\n",
    "        source_connection_config=LocalConnectionConfig(),\n",
    "        partitioner_config=PartitionerConfig(\n",
    "            partition_by_api=True,\n",
    "            api_key=UNSTRUCTURED_API_KEY,\n",
    "            partition_endpoint=\"\", #os.getenv(\"UNSTRUCTURED_API_URL\"),\n",
    "            strategy=\"hi_res\",\n",
    "            additional_partition_args={\n",
    "                \"split_pdf_page\": True,\n",
    "                \"split_pdf_allow_failed\": True,\n",
    "                \"split_pdf_concurrency_level\": 15\n",
    "            }\n",
    "        ),\n",
    "        # Setting chunk_elements=True now has the same effect as setting chunking_strategy='by_title'\n",
    "        chunker_config=local_chunker_config,\n",
    "        embedder_config=EmbedderConfig(embedding_provider=\"huggingface\"),\n",
    "        destination_connection_config=AstraDBConnectionConfig(\n",
    "            access_config=AstraDBAccessConfig(\n",
    "                api_endpoint=ASTRA_DB_API_ENDPOINT,\n",
    "                token=ASTRA_DB_APPLICATION_TOKEN\n",
    "            )\n",
    "        ),\n",
    "        stager_config=AstraDBUploadStagerConfig(),\n",
    "        uploader_config=AstraDBUploaderConfig(\n",
    "            keyspace=ASTRA_DB_KEYSPACE,\n",
    "            collection_name=collection_name,\n",
    "            embedding_dimension=ASTRA_DB_EMBEDDING_DIMENSIONS\n",
    "        )\n",
    "    ).run()\n"
   ]
  },
  {
   "cell_type": "code",
   "execution_count": 8,
   "metadata": {},
   "outputs": [
    {
     "name": "stdout",
     "output_type": "stream",
     "text": [
      "Creating vector store unstructured_by_title in AstraDB\n"
     ]
    },
    {
     "name": "stderr",
     "output_type": "stream",
     "text": [
      "2024-11-21 08:58:42,303 MainProcess INFO     created index with configs: {\"input_path\": \"ingest\", \"recursive\": false}, connection configs: {\"access_config\": \"**********\"}\n",
      "2024-11-21 08:58:42,304 MainProcess INFO     Created download with configs: {\"download_dir\": null}, connection configs: {\"access_config\": \"**********\"}\n",
      "2024-11-21 08:58:42,304 MainProcess INFO     created partition with configs: {\"strategy\": \"hi_res\", \"ocr_languages\": null, \"encoding\": null, \"additional_partition_args\": {\"split_pdf_page\": true, \"split_pdf_allow_failed\": true, \"split_pdf_concurrency_level\": 15}, \"skip_infer_table_types\": null, \"fields_include\": [\"element_id\", \"text\", \"type\", \"metadata\", \"embeddings\"], \"flatten_metadata\": false, \"metadata_exclude\": [], \"element_exclude\": [], \"metadata_include\": [], \"partition_endpoint\": \"\", \"partition_by_api\": true, \"api_key\": \"*******\", \"hi_res_model_name\": null}\n",
      "2024-11-21 08:58:42,305 MainProcess INFO     created chunk with configs: {\"chunking_strategy\": \"by_title\", \"chunking_endpoint\": \"https://api.unstructuredapp.io/general/v0/general\", \"chunk_by_api\": false, \"chunk_api_key\": null, \"chunk_combine_text_under_n_chars\": null, \"chunk_include_orig_elements\": null, \"chunk_max_characters\": 500, \"chunk_multipage_sections\": true, \"chunk_new_after_n_chars\": null, \"chunk_overlap\": null, \"chunk_overlap_all\": null}\n",
      "2024-11-21 08:58:42,305 MainProcess INFO     created embed with configs: {\"embedding_provider\": \"huggingface\", \"embedding_api_key\": null, \"embedding_model_name\": null, \"embedding_aws_access_key_id\": null, \"embedding_aws_secret_access_key\": null, \"embedding_aws_region\": \"us-west-2\"}\n",
      "2024-11-21 08:58:42,311 MainProcess INFO     created upload_stage with configs: {}\n",
      "2024-11-21 08:58:42,311 MainProcess INFO     Created upload with configs: {\"collection_name\": \"unstructured_by_title\", \"embedding_dimension\": 384, \"keyspace\": \"*******\", \"namespace\": null, \"requested_indexing_policy\": null, \"batch_size\": 20}, connection configs: {\"access_config\": \"**********\", \"connector_type\": \"astradb\"}\n",
      "2024-11-21 08:58:42,336 MainProcess INFO     running local pipeline: index (LocalIndexer) -> download (LocalDownloader) -> partition (hi_res) -> chunk (by_title) -> embed (huggingface) -> upload_stage (AstraDBUploadStager) -> upload (AstraDBUploader) with configs: {\"reprocess\": false, \"verbose\": false, \"tqdm\": false, \"work_dir\": \"/Users/pedropacheco/.cache/unstructured/ingest/pipeline\", \"num_processes\": 2, \"max_connections\": null, \"raise_on_error\": false, \"disable_parallelism\": false, \"preserve_downloads\": false, \"download_only\": false, \"re_download\": false, \"uncompress\": false, \"iter_delete\": false, \"delete_cache\": false, \"otel_endpoint\": null, \"status\": {}}\n"
     ]
    },
    {
     "name": "stdout",
     "output_type": "stream",
     "text": [
      "Vector store Collection(name=\"unstructured_by_title\", keyspace=\"graphrag\", database=Database(api_endpoint=\"https://e9b06722-b7b7-4d7d-9ba0-801344f200de-us-east-2.apps.astra.datastax.com\", token=\"AstraCS:JWxL...\", keyspace=\"graphrag\"), api_options=CollectionAPIOptions(max_time_ms=None, embedding_api_key=EmbeddingAPIKeyHeaderProvider(empty))) created in AstraDB\n",
      "Parsing documents for stratygy by_title\n",
      "Uploading to collection unstructured_by_title\n"
     ]
    },
    {
     "name": "stderr",
     "output_type": "stream",
     "text": [
      "huggingface/tokenizers: The current process just got forked, after parallelism has already been used. Disabling parallelism to avoid deadlocks...\n",
      "To disable this warning, you can either:\n",
      "\t- Avoid using `tokenizers` before the fork if possible\n",
      "\t- Explicitly set the environment variable TOKENIZERS_PARALLELISM=(true | false)\n",
      "2024-11-21 08:58:42,407 MainProcess INFO     index finished in 4.9e-05s\n",
      "2024-11-21 08:58:42,411 MainProcess INFO     calling DownloadStep with 1 docs\n",
      "2024-11-21 08:58:42,412 MainProcess INFO     processing content async\n",
      "2024-11-21 08:58:42,412 MainProcess WARNING  async code being run in dedicated thread pool to not conflict with existing event loop: <_UnixSelectorEventLoop running=True closed=False debug=False>\n",
      "2024-11-21 08:58:42,414 MainProcess INFO     download finished in 0.001552s, attributes: file_id=5e67eafb35b0\n",
      "2024-11-21 08:58:42,415 MainProcess INFO     download step finished in 0.003699s\n",
      "2024-11-21 08:58:42,415 MainProcess INFO     calling PartitionStep with 1 docs\n",
      "2024-11-21 08:58:42,415 MainProcess INFO     processing content async\n",
      "2024-11-21 08:58:42,416 MainProcess WARNING  async code being run in dedicated thread pool to not conflict with existing event loop: <_UnixSelectorEventLoop running=True closed=False debug=False>\n",
      "2024-11-21 08:58:42,418 MainProcess INFO     partition finished in 0.001476s, attributes: file_id=5e67eafb35b0\n",
      "2024-11-21 08:58:42,418 MainProcess INFO     partition step finished in 0.002833s\n",
      "2024-11-21 08:58:42,418 MainProcess INFO     calling ChunkStep with 1 docs\n",
      "2024-11-21 08:58:42,419 MainProcess INFO     processing content across processes\n",
      "2024-11-21 08:58:42,419 MainProcess INFO     processing content serially\n",
      "2024-11-21 08:58:42,419 MainProcess WARNING  async code being run in dedicated thread pool to not conflict with existing event loop: <_UnixSelectorEventLoop running=True closed=False debug=False>\n",
      "2024-11-21 08:58:42,421 MainProcess INFO     chunk finished in 0.001204s, attributes: file_id=5e67eafb35b0\n",
      "2024-11-21 08:58:42,422 MainProcess INFO     chunk finished in 0.002405s, attributes: file_id=5e67eafb35b0\n",
      "2024-11-21 08:58:42,422 MainProcess INFO     chunk step finished in 0.003232s\n",
      "2024-11-21 08:58:42,422 MainProcess INFO     calling EmbedStep with 1 docs\n",
      "2024-11-21 08:58:42,422 MainProcess INFO     processing content across processes\n",
      "2024-11-21 08:58:42,422 MainProcess INFO     processing content serially\n",
      "2024-11-21 08:58:42,422 MainProcess WARNING  async code being run in dedicated thread pool to not conflict with existing event loop: <_UnixSelectorEventLoop running=True closed=False debug=False>\n",
      "2024-11-21 08:58:42,424 MainProcess INFO     embed finished in 0.001186s, attributes: file_id=5e67eafb35b0\n",
      "2024-11-21 08:58:42,425 MainProcess INFO     embed finished in 0.002327s, attributes: file_id=5e67eafb35b0\n",
      "2024-11-21 08:58:42,425 MainProcess INFO     embed step finished in 0.002967s\n",
      "2024-11-21 08:58:42,425 MainProcess INFO     calling UploadStageStep with 1 docs\n",
      "2024-11-21 08:58:42,425 MainProcess INFO     processing content across processes\n",
      "2024-11-21 08:58:42,425 MainProcess INFO     processing content serially\n",
      "2024-11-21 08:58:42,426 MainProcess WARNING  async code being run in dedicated thread pool to not conflict with existing event loop: <_UnixSelectorEventLoop running=True closed=False debug=False>\n",
      "2024-11-21 08:58:42,483 MainProcess INFO     upload_stage finished in 0.05681s, attributes: file_id=5e67eafb35b0\n",
      "2024-11-21 08:58:42,484 MainProcess INFO     upload_stage finished in 0.058159s, attributes: file_id=5e67eafb35b0\n",
      "2024-11-21 08:58:42,484 MainProcess INFO     upload_stage step finished in 0.05919s\n",
      "2024-11-21 08:58:42,485 MainProcess INFO     calling UploadStep with 1 docs\n",
      "2024-11-21 08:58:42,485 MainProcess INFO     processing content across processes\n",
      "2024-11-21 08:58:42,485 MainProcess INFO     processing content serially\n",
      "2024-11-21 08:58:42,485 MainProcess WARNING  async code being run in dedicated thread pool to not conflict with existing event loop: <_UnixSelectorEventLoop running=True closed=False debug=False>\n",
      "2024-11-21 08:58:42,499 MainProcess INFO     writing 158 objects to destination collection unstructured_by_title\n",
      "2024-11-21 08:58:44,470 MainProcess INFO     upload finished in 1.983684s, attributes: file_id=5e67eafb35b0\n",
      "2024-11-21 08:58:44,470 MainProcess INFO     upload finished in 1.985187s, attributes: file_id=5e67eafb35b0\n",
      "2024-11-21 08:58:44,471 MainProcess INFO     upload step finished in 1.986096s\n",
      "2024-11-21 08:58:44,471 MainProcess INFO     ingest process finished in 2.158537s\n"
     ]
    },
    {
     "name": "stdout",
     "output_type": "stream",
     "text": [
      "Creating vector store unstructured_by_element in AstraDB\n"
     ]
    },
    {
     "name": "stderr",
     "output_type": "stream",
     "text": [
      "2024-11-21 08:58:46,999 MainProcess INFO     created index with configs: {\"input_path\": \"ingest\", \"recursive\": false}, connection configs: {\"access_config\": \"**********\"}\n",
      "2024-11-21 08:58:46,999 MainProcess INFO     Created download with configs: {\"download_dir\": null}, connection configs: {\"access_config\": \"**********\"}\n",
      "2024-11-21 08:58:47,000 MainProcess INFO     created partition with configs: {\"strategy\": \"hi_res\", \"ocr_languages\": null, \"encoding\": null, \"additional_partition_args\": {\"split_pdf_page\": true, \"split_pdf_allow_failed\": true, \"split_pdf_concurrency_level\": 15}, \"skip_infer_table_types\": null, \"fields_include\": [\"element_id\", \"text\", \"type\", \"metadata\", \"embeddings\"], \"flatten_metadata\": false, \"metadata_exclude\": [], \"element_exclude\": [], \"metadata_include\": [], \"partition_endpoint\": \"\", \"partition_by_api\": true, \"api_key\": \"*******\", \"hi_res_model_name\": null}\n",
      "2024-11-21 08:58:47,001 MainProcess INFO     created chunk with configs: {\"chunking_strategy\": null, \"chunking_endpoint\": \"https://api.unstructuredapp.io/general/v0/general\", \"chunk_by_api\": false, \"chunk_api_key\": null, \"chunk_combine_text_under_n_chars\": null, \"chunk_include_orig_elements\": null, \"chunk_max_characters\": 500, \"chunk_multipage_sections\": true, \"chunk_new_after_n_chars\": null, \"chunk_overlap\": null, \"chunk_overlap_all\": null}\n",
      "2024-11-21 08:58:47,001 MainProcess INFO     created embed with configs: {\"embedding_provider\": \"huggingface\", \"embedding_api_key\": null, \"embedding_model_name\": null, \"embedding_aws_access_key_id\": null, \"embedding_aws_secret_access_key\": null, \"embedding_aws_region\": \"us-west-2\"}\n",
      "2024-11-21 08:58:47,002 MainProcess INFO     created upload_stage with configs: {}\n",
      "2024-11-21 08:58:47,002 MainProcess INFO     Created upload with configs: {\"collection_name\": \"unstructured_by_element\", \"embedding_dimension\": 384, \"keyspace\": \"*******\", \"namespace\": null, \"requested_indexing_policy\": null, \"batch_size\": 20}, connection configs: {\"access_config\": \"**********\", \"connector_type\": \"astradb\"}\n",
      "2024-11-21 08:58:47,027 MainProcess INFO     running local pipeline: index (LocalIndexer) -> download (LocalDownloader) -> partition (hi_res) -> chunk (None) -> embed (huggingface) -> upload_stage (AstraDBUploadStager) -> upload (AstraDBUploader) with configs: {\"reprocess\": false, \"verbose\": false, \"tqdm\": false, \"work_dir\": \"/Users/pedropacheco/.cache/unstructured/ingest/pipeline\", \"num_processes\": 2, \"max_connections\": null, \"raise_on_error\": false, \"disable_parallelism\": false, \"preserve_downloads\": false, \"download_only\": false, \"re_download\": false, \"uncompress\": false, \"iter_delete\": false, \"delete_cache\": false, \"otel_endpoint\": null, \"status\": {}}\n"
     ]
    },
    {
     "name": "stdout",
     "output_type": "stream",
     "text": [
      "Vector store Collection(name=\"unstructured_by_element\", keyspace=\"graphrag\", database=Database(api_endpoint=\"https://e9b06722-b7b7-4d7d-9ba0-801344f200de-us-east-2.apps.astra.datastax.com\", token=\"AstraCS:JWxL...\", keyspace=\"graphrag\"), api_options=CollectionAPIOptions(max_time_ms=None, embedding_api_key=EmbeddingAPIKeyHeaderProvider(empty))) created in AstraDB\n",
      "Parsing documents for stratygy by_element\n",
      "Uploading to collection unstructured_by_element\n"
     ]
    },
    {
     "name": "stderr",
     "output_type": "stream",
     "text": [
      "huggingface/tokenizers: The current process just got forked, after parallelism has already been used. Disabling parallelism to avoid deadlocks...\n",
      "To disable this warning, you can either:\n",
      "\t- Avoid using `tokenizers` before the fork if possible\n",
      "\t- Explicitly set the environment variable TOKENIZERS_PARALLELISM=(true | false)\n",
      "2024-11-21 08:58:47,089 MainProcess INFO     index finished in 2.4e-05s\n",
      "2024-11-21 08:58:47,091 MainProcess INFO     calling DownloadStep with 1 docs\n",
      "2024-11-21 08:58:47,091 MainProcess INFO     processing content async\n",
      "2024-11-21 08:58:47,091 MainProcess WARNING  async code being run in dedicated thread pool to not conflict with existing event loop: <_UnixSelectorEventLoop running=True closed=False debug=False>\n",
      "2024-11-21 08:58:47,094 MainProcess INFO     download finished in 0.001622s, attributes: file_id=5e67eafb35b0\n",
      "2024-11-21 08:58:47,094 MainProcess INFO     download step finished in 0.003461s\n",
      "2024-11-21 08:58:47,094 MainProcess INFO     calling PartitionStep with 1 docs\n",
      "2024-11-21 08:58:47,095 MainProcess INFO     processing content async\n",
      "2024-11-21 08:58:47,095 MainProcess WARNING  async code being run in dedicated thread pool to not conflict with existing event loop: <_UnixSelectorEventLoop running=True closed=False debug=False>\n",
      "2024-11-21 08:58:47,096 MainProcess INFO     partition finished in 0.000995s, attributes: file_id=5e67eafb35b0\n",
      "2024-11-21 08:58:47,097 MainProcess INFO     partition step finished in 0.002525s\n",
      "2024-11-21 08:58:47,097 MainProcess INFO     calling ChunkStep with 1 docs\n",
      "2024-11-21 08:58:47,097 MainProcess INFO     processing content across processes\n",
      "2024-11-21 08:58:47,098 MainProcess INFO     processing content serially\n",
      "2024-11-21 08:58:47,098 MainProcess WARNING  async code being run in dedicated thread pool to not conflict with existing event loop: <_UnixSelectorEventLoop running=True closed=False debug=False>\n",
      "2024-11-21 08:58:47,099 MainProcess INFO     chunk finished in 0.001248s, attributes: file_id=5e67eafb35b0\n",
      "2024-11-21 08:58:47,100 MainProcess INFO     chunk finished in 0.002169s, attributes: file_id=5e67eafb35b0\n",
      "2024-11-21 08:58:47,100 MainProcess INFO     chunk step finished in 0.00302s\n",
      "2024-11-21 08:58:47,100 MainProcess INFO     calling EmbedStep with 1 docs\n",
      "2024-11-21 08:58:47,101 MainProcess INFO     processing content across processes\n",
      "2024-11-21 08:58:47,101 MainProcess INFO     processing content serially\n",
      "2024-11-21 08:58:47,101 MainProcess WARNING  async code being run in dedicated thread pool to not conflict with existing event loop: <_UnixSelectorEventLoop running=True closed=False debug=False>\n",
      "2024-11-21 08:58:47,103 MainProcess INFO     embed finished in 0.000913s, attributes: file_id=5e67eafb35b0\n",
      "2024-11-21 08:58:47,103 MainProcess INFO     embed finished in 0.00204s, attributes: file_id=5e67eafb35b0\n",
      "2024-11-21 08:58:47,103 MainProcess INFO     embed step finished in 0.003008s\n",
      "2024-11-21 08:58:47,104 MainProcess INFO     calling UploadStageStep with 1 docs\n",
      "2024-11-21 08:58:47,104 MainProcess INFO     processing content across processes\n",
      "2024-11-21 08:58:47,104 MainProcess INFO     processing content serially\n",
      "2024-11-21 08:58:47,104 MainProcess WARNING  async code being run in dedicated thread pool to not conflict with existing event loop: <_UnixSelectorEventLoop running=True closed=False debug=False>\n",
      "2024-11-21 08:58:47,179 MainProcess INFO     upload_stage finished in 0.073889s, attributes: file_id=5e67eafb35b0\n",
      "2024-11-21 08:58:47,179 MainProcess INFO     upload_stage finished in 0.075283s, attributes: file_id=5e67eafb35b0\n",
      "2024-11-21 08:58:47,180 MainProcess INFO     upload_stage step finished in 0.075983s\n",
      "2024-11-21 08:58:47,180 MainProcess INFO     calling UploadStep with 1 docs\n",
      "2024-11-21 08:58:47,180 MainProcess INFO     processing content across processes\n",
      "2024-11-21 08:58:47,180 MainProcess INFO     processing content serially\n",
      "2024-11-21 08:58:47,181 MainProcess WARNING  async code being run in dedicated thread pool to not conflict with existing event loop: <_UnixSelectorEventLoop running=True closed=False debug=False>\n",
      "2024-11-21 08:58:47,198 MainProcess INFO     writing 211 objects to destination collection unstructured_by_element\n",
      "2024-11-21 08:58:49,452 MainProcess INFO     upload finished in 2.270227s, attributes: file_id=5e67eafb35b0\n",
      "2024-11-21 08:58:49,452 MainProcess INFO     upload finished in 2.271554s, attributes: file_id=5e67eafb35b0\n",
      "2024-11-21 08:58:49,453 MainProcess INFO     upload step finished in 2.272571s\n",
      "2024-11-21 08:58:49,453 MainProcess INFO     ingest process finished in 2.44972s\n"
     ]
    }
   ],
   "source": [
    "vs_dict = {}\n",
    "for strategy in [\"by_title\", \"by_element\"]: #[\"basic\", \"by_title\", \"by_similarity\", \"by_page\"]:\n",
    "    collection_name = f\"unstructured_{strategy}\"\n",
    "    vs_dict[strategy] = astradb(hf_embeddings, collection_name=collection_name)\n",
    "    unstructured(strategy, collection_name=collection_name)\n"
   ]
  },
  {
   "cell_type": "code",
   "execution_count": 9,
   "metadata": {},
   "outputs": [],
   "source": [
    "import sys\n",
    "sys.path.append(\"/Users/pedropacheco/Projects/demos/unstructured-platform\")\n",
    "from content_graph import ContentGraph, _encode_astradb_documents\n"
   ]
  },
  {
   "cell_type": "markdown",
   "metadata": {},
   "source": [
    "### Retrieve documents"
   ]
  },
  {
   "cell_type": "code",
   "execution_count": null,
   "metadata": {},
   "outputs": [
    {
     "name": "stderr",
     "output_type": "stream",
     "text": [
      "INFO:astrapy.cursors:creating iterator on 'unstructured_by_title'\n",
      "INFO:astrapy.cursors:finished creating iterator on 'unstructured_by_title'\n",
      "INFO:astrapy.collection:command=find on 'unstructured_by_title'\n",
      "INFO:httpx:HTTP Request: POST https://e9b06722-b7b7-4d7d-9ba0-801344f200de-us-east-2.apps.astra.datastax.com/api/json/v1/graphrag/unstructured_by_title \"HTTP/1.1 200 OK\"\n",
      "INFO:astrapy.collection:finished command=find on 'unstructured_by_title'\n",
      "INFO:astrapy.collection:command=find on 'unstructured_by_title'\n"
     ]
    },
    {
     "name": "stdout",
     "output_type": "stream",
     "text": [
      "by_title\n"
     ]
    },
    {
     "name": "stderr",
     "output_type": "stream",
     "text": [
      "INFO:httpx:HTTP Request: POST https://e9b06722-b7b7-4d7d-9ba0-801344f200de-us-east-2.apps.astra.datastax.com/api/json/v1/graphrag/unstructured_by_title \"HTTP/1.1 200 OK\"\n",
      "INFO:astrapy.collection:finished command=find on 'unstructured_by_title'\n",
      "INFO:astrapy.collection:command=find on 'unstructured_by_title'\n",
      "INFO:httpx:HTTP Request: POST https://e9b06722-b7b7-4d7d-9ba0-801344f200de-us-east-2.apps.astra.datastax.com/api/json/v1/graphrag/unstructured_by_title \"HTTP/1.1 200 OK\"\n",
      "INFO:astrapy.collection:finished command=find on 'unstructured_by_title'\n",
      "INFO:astrapy.collection:command=find on 'unstructured_by_title'\n",
      "INFO:httpx:HTTP Request: POST https://e9b06722-b7b7-4d7d-9ba0-801344f200de-us-east-2.apps.astra.datastax.com/api/json/v1/graphrag/unstructured_by_title \"HTTP/1.1 200 OK\"\n",
      "INFO:astrapy.collection:finished command=find on 'unstructured_by_title'\n",
      "INFO:astrapy.collection:command=find on 'unstructured_by_title'\n",
      "INFO:httpx:HTTP Request: POST https://e9b06722-b7b7-4d7d-9ba0-801344f200de-us-east-2.apps.astra.datastax.com/api/json/v1/graphrag/unstructured_by_title \"HTTP/1.1 200 OK\"\n",
      "INFO:astrapy.collection:finished command=find on 'unstructured_by_title'\n",
      "INFO:astrapy.collection:command=find on 'unstructured_by_title'\n",
      "INFO:httpx:HTTP Request: POST https://e9b06722-b7b7-4d7d-9ba0-801344f200de-us-east-2.apps.astra.datastax.com/api/json/v1/graphrag/unstructured_by_title \"HTTP/1.1 200 OK\"\n",
      "INFO:astrapy.collection:finished command=find on 'unstructured_by_title'\n",
      "INFO:astrapy.collection:command=find on 'unstructured_by_title'\n",
      "INFO:httpx:HTTP Request: POST https://e9b06722-b7b7-4d7d-9ba0-801344f200de-us-east-2.apps.astra.datastax.com/api/json/v1/graphrag/unstructured_by_title \"HTTP/1.1 200 OK\"\n",
      "INFO:astrapy.collection:finished command=find on 'unstructured_by_title'\n",
      "INFO:astrapy.collection:command=find on 'unstructured_by_title'\n",
      "INFO:httpx:HTTP Request: POST https://e9b06722-b7b7-4d7d-9ba0-801344f200de-us-east-2.apps.astra.datastax.com/api/json/v1/graphrag/unstructured_by_title \"HTTP/1.1 200 OK\"\n",
      "INFO:astrapy.collection:finished command=find on 'unstructured_by_title'\n",
      "INFO:astrapy.cursors:creating iterator on 'unstructured_by_element'\n",
      "INFO:astrapy.cursors:finished creating iterator on 'unstructured_by_element'\n",
      "INFO:astrapy.collection:command=find on 'unstructured_by_element'\n",
      "INFO:httpx:HTTP Request: POST https://e9b06722-b7b7-4d7d-9ba0-801344f200de-us-east-2.apps.astra.datastax.com/api/json/v1/graphrag/unstructured_by_element \"HTTP/1.1 200 OK\"\n",
      "INFO:astrapy.collection:finished command=find on 'unstructured_by_element'\n",
      "INFO:astrapy.collection:command=find on 'unstructured_by_element'\n",
      "INFO:httpx:HTTP Request: POST https://e9b06722-b7b7-4d7d-9ba0-801344f200de-us-east-2.apps.astra.datastax.com/api/json/v1/graphrag/unstructured_by_element \"HTTP/1.1 200 OK\"\n",
      "INFO:astrapy.collection:finished command=find on 'unstructured_by_element'\n",
      "INFO:astrapy.collection:command=find on 'unstructured_by_element'\n"
     ]
    },
    {
     "name": "stdout",
     "output_type": "stream",
     "text": [
      "by_element\n"
     ]
    },
    {
     "name": "stderr",
     "output_type": "stream",
     "text": [
      "INFO:httpx:HTTP Request: POST https://e9b06722-b7b7-4d7d-9ba0-801344f200de-us-east-2.apps.astra.datastax.com/api/json/v1/graphrag/unstructured_by_element \"HTTP/1.1 200 OK\"\n",
      "INFO:astrapy.collection:finished command=find on 'unstructured_by_element'\n",
      "INFO:astrapy.collection:command=find on 'unstructured_by_element'\n",
      "INFO:httpx:HTTP Request: POST https://e9b06722-b7b7-4d7d-9ba0-801344f200de-us-east-2.apps.astra.datastax.com/api/json/v1/graphrag/unstructured_by_element \"HTTP/1.1 200 OK\"\n",
      "INFO:astrapy.collection:finished command=find on 'unstructured_by_element'\n",
      "INFO:astrapy.collection:command=find on 'unstructured_by_element'\n",
      "INFO:httpx:HTTP Request: POST https://e9b06722-b7b7-4d7d-9ba0-801344f200de-us-east-2.apps.astra.datastax.com/api/json/v1/graphrag/unstructured_by_element \"HTTP/1.1 200 OK\"\n",
      "INFO:astrapy.collection:finished command=find on 'unstructured_by_element'\n",
      "INFO:astrapy.collection:command=find on 'unstructured_by_element'\n",
      "INFO:httpx:HTTP Request: POST https://e9b06722-b7b7-4d7d-9ba0-801344f200de-us-east-2.apps.astra.datastax.com/api/json/v1/graphrag/unstructured_by_element \"HTTP/1.1 200 OK\"\n",
      "INFO:astrapy.collection:finished command=find on 'unstructured_by_element'\n",
      "INFO:astrapy.collection:command=find on 'unstructured_by_element'\n",
      "INFO:httpx:HTTP Request: POST https://e9b06722-b7b7-4d7d-9ba0-801344f200de-us-east-2.apps.astra.datastax.com/api/json/v1/graphrag/unstructured_by_element \"HTTP/1.1 200 OK\"\n",
      "INFO:astrapy.collection:finished command=find on 'unstructured_by_element'\n",
      "INFO:astrapy.collection:command=find on 'unstructured_by_element'\n",
      "INFO:httpx:HTTP Request: POST https://e9b06722-b7b7-4d7d-9ba0-801344f200de-us-east-2.apps.astra.datastax.com/api/json/v1/graphrag/unstructured_by_element \"HTTP/1.1 200 OK\"\n",
      "INFO:astrapy.collection:finished command=find on 'unstructured_by_element'\n",
      "INFO:astrapy.collection:command=find on 'unstructured_by_element'\n",
      "INFO:httpx:HTTP Request: POST https://e9b06722-b7b7-4d7d-9ba0-801344f200de-us-east-2.apps.astra.datastax.com/api/json/v1/graphrag/unstructured_by_element \"HTTP/1.1 200 OK\"\n",
      "INFO:astrapy.collection:finished command=find on 'unstructured_by_element'\n",
      "INFO:astrapy.collection:command=find on 'unstructured_by_element'\n",
      "INFO:httpx:HTTP Request: POST https://e9b06722-b7b7-4d7d-9ba0-801344f200de-us-east-2.apps.astra.datastax.com/api/json/v1/graphrag/unstructured_by_element \"HTTP/1.1 200 OK\"\n",
      "INFO:astrapy.collection:finished command=find on 'unstructured_by_element'\n",
      "INFO:astrapy.collection:command=find on 'unstructured_by_element'\n",
      "INFO:httpx:HTTP Request: POST https://e9b06722-b7b7-4d7d-9ba0-801344f200de-us-east-2.apps.astra.datastax.com/api/json/v1/graphrag/unstructured_by_element \"HTTP/1.1 200 OK\"\n",
      "INFO:astrapy.collection:finished command=find on 'unstructured_by_element'\n"
     ]
    }
   ],
   "source": [
    "from langchain_astradb.utils.vector_store_codecs import (\n",
    "    _AstraDBVectorStoreDocumentCodec,\n",
    "    _DefaultVectorizeVSDocumentCodec,\n",
    "    _DefaultVSDocumentCodec,\n",
    ")\n",
    "original_documents = {}\n",
    "for key in [\"by_title\",\"by_element\"]:\n",
    "    print(key)\n",
    "    hits = list(vs_dict[key].astra_env.collection.find({}))\n",
    "    document_codec = _DefaultVSDocumentCodec(content_field=\"content\", ignore_invalid_documents=True)\n",
    "    original_documents[key] = [document_codec.decode(hit) for hit in hits]\n"
   ]
  },
  {
   "cell_type": "markdown",
   "metadata": {},
   "source": [
    "### Builds Vector Graph!"
   ]
  },
  {
   "cell_type": "code",
   "execution_count": null,
   "metadata": {},
   "outputs": [
    {
     "name": "stderr",
     "output_type": "stream",
     "text": [
      "INFO:content_graph:Creating content graph from existing langchain documents ...\n",
      "/Users/pedropacheco/Projects/demos/unstructured-platform/content_graph.py:295: LangChainBetaWarning: The function `get_links` is in beta. It is actively being worked on, so the API may change.\n",
      "  existing_links = get_links(doc)\n",
      "/Users/pedropacheco/Projects/demos/unstructured-platform/content_graph.py:305: LangChainBetaWarning: The function `add_links` is in beta. It is actively being worked on, so the API may change.\n",
      "  add_links(doc, link)\n",
      "INFO:content_graph:Creating content graph from existing langchain documents ...\n"
     ]
    }
   ],
   "source": [
    "graphs={}\n",
    "for strategy in [\"by_title\", \"by_element\"]:\n",
    "    g = ContentGraph(strategy)\n",
    "    g.fromLangChainDocuments(\n",
    "        documents=original_documents[strategy],\n",
    "        reset_graph=True,\n",
    "        infer_hierarchy=True,\n",
    "        strategy=strategy,\n",
    "    )\n",
    "    graphs[strategy] = g\n"
   ]
  },
  {
   "cell_type": "code",
   "execution_count": 12,
   "metadata": {},
   "outputs": [
    {
     "name": "stdout",
     "output_type": "stream",
     "text": [
      "by_element.html\n",
      "by_title.html\n"
     ]
    }
   ],
   "source": [
    "graphs[\"by_element\"].plot_graph(\"by_element\")\n",
    "graphs[\"by_title\"].plot_graph(\"by_title\")\n"
   ]
  },
  {
   "cell_type": "markdown",
   "metadata": {},
   "source": [
    "### Saves graphs to the graph vector store"
   ]
  },
  {
   "cell_type": "code",
   "execution_count": 14,
   "metadata": {},
   "outputs": [
    {
     "name": "stderr",
     "output_type": "stream",
     "text": [
      "INFO:langchain_astradb.vectorstores:vector store default init, collection 'graph_by_title'\n",
      "INFO:root:Detecting API environment 'prod' from supplied endpoint\n",
      "INFO:astrapy.database:createCollection('graph_by_title')\n",
      "INFO:httpx:HTTP Request: POST https://e9b06722-b7b7-4d7d-9ba0-801344f200de-us-east-2.apps.astra.datastax.com/api/json/v1/graphrag \"HTTP/1.1 200 OK\"\n",
      "INFO:astrapy.database:finished createCollection('graph_by_title')\n",
      "INFO:astrapy.cursors:creating iterator on 'graph_by_title'\n",
      "INFO:astrapy.cursors:finished creating iterator on 'graph_by_title'\n",
      "INFO:astrapy.collection:command=find on 'graph_by_title'\n",
      "INFO:httpx:HTTP Request: POST https://e9b06722-b7b7-4d7d-9ba0-801344f200de-us-east-2.apps.astra.datastax.com/api/json/v1/graphrag/graph_by_title \"HTTP/1.1 200 OK\"\n",
      "INFO:astrapy.collection:finished command=find on 'graph_by_title'\n",
      "INFO:astrapy.collection:inserting 370 documents in 'graph_by_title'\n",
      "INFO:astrapy.collection:insertMany(chunk) on 'graph_by_title'\n",
      "INFO:astrapy.collection:insertMany(chunk) on 'graph_by_title'\n",
      "INFO:astrapy.collection:insertMany(chunk) on 'graph_by_title'\n",
      "INFO:astrapy.collection:insertMany(chunk) on 'graph_by_title'\n",
      "INFO:astrapy.collection:insertMany(chunk) on 'graph_by_title'\n",
      "INFO:astrapy.collection:insertMany(chunk) on 'graph_by_title'\n",
      "INFO:astrapy.collection:insertMany(chunk) on 'graph_by_title'\n",
      "INFO:astrapy.collection:insertMany(chunk) on 'graph_by_title'\n",
      "INFO:httpx:HTTP Request: POST https://e9b06722-b7b7-4d7d-9ba0-801344f200de-us-east-2.apps.astra.datastax.com/api/json/v1/graphrag/graph_by_title \"HTTP/1.1 200 OK\"\n",
      "INFO:astrapy.collection:finished insertMany(chunk) on 'graph_by_title'\n",
      "INFO:httpx:HTTP Request: POST https://e9b06722-b7b7-4d7d-9ba0-801344f200de-us-east-2.apps.astra.datastax.com/api/json/v1/graphrag/graph_by_title \"HTTP/1.1 200 OK\"\n",
      "INFO:astrapy.collection:finished insertMany(chunk) on 'graph_by_title'\n",
      "INFO:httpx:HTTP Request: POST https://e9b06722-b7b7-4d7d-9ba0-801344f200de-us-east-2.apps.astra.datastax.com/api/json/v1/graphrag/graph_by_title \"HTTP/1.1 200 OK\"\n",
      "INFO:astrapy.collection:finished insertMany(chunk) on 'graph_by_title'\n",
      "INFO:httpx:HTTP Request: POST https://e9b06722-b7b7-4d7d-9ba0-801344f200de-us-east-2.apps.astra.datastax.com/api/json/v1/graphrag/graph_by_title \"HTTP/1.1 200 OK\"\n",
      "INFO:astrapy.collection:finished insertMany(chunk) on 'graph_by_title'\n",
      "INFO:httpx:HTTP Request: POST https://e9b06722-b7b7-4d7d-9ba0-801344f200de-us-east-2.apps.astra.datastax.com/api/json/v1/graphrag/graph_by_title \"HTTP/1.1 200 OK\"\n",
      "INFO:astrapy.collection:finished insertMany(chunk) on 'graph_by_title'\n",
      "INFO:httpx:HTTP Request: POST https://e9b06722-b7b7-4d7d-9ba0-801344f200de-us-east-2.apps.astra.datastax.com/api/json/v1/graphrag/graph_by_title \"HTTP/1.1 200 OK\"\n",
      "INFO:astrapy.collection:finished insertMany(chunk) on 'graph_by_title'\n",
      "INFO:httpx:HTTP Request: POST https://e9b06722-b7b7-4d7d-9ba0-801344f200de-us-east-2.apps.astra.datastax.com/api/json/v1/graphrag/graph_by_title \"HTTP/1.1 200 OK\"\n",
      "INFO:astrapy.collection:finished insertMany(chunk) on 'graph_by_title'\n",
      "INFO:httpx:HTTP Request: POST https://e9b06722-b7b7-4d7d-9ba0-801344f200de-us-east-2.apps.astra.datastax.com/api/json/v1/graphrag/graph_by_title \"HTTP/1.1 200 OK\"\n",
      "INFO:astrapy.collection:finished insertMany(chunk) on 'graph_by_title'\n",
      "INFO:astrapy.collection:finished inserting 370 documents in 'graph_by_title'\n",
      "INFO:langchain_astradb.vectorstores:vector store default init, collection 'graph_by_element'\n",
      "INFO:root:Detecting API environment 'prod' from supplied endpoint\n",
      "INFO:astrapy.database:createCollection('graph_by_element')\n",
      "INFO:httpx:HTTP Request: POST https://e9b06722-b7b7-4d7d-9ba0-801344f200de-us-east-2.apps.astra.datastax.com/api/json/v1/graphrag \"HTTP/1.1 200 OK\"\n",
      "INFO:astrapy.database:finished createCollection('graph_by_element')\n",
      "INFO:astrapy.cursors:creating iterator on 'graph_by_element'\n",
      "INFO:astrapy.cursors:finished creating iterator on 'graph_by_element'\n",
      "INFO:astrapy.collection:command=find on 'graph_by_element'\n",
      "INFO:httpx:HTTP Request: POST https://e9b06722-b7b7-4d7d-9ba0-801344f200de-us-east-2.apps.astra.datastax.com/api/json/v1/graphrag/graph_by_element \"HTTP/1.1 200 OK\"\n",
      "INFO:astrapy.collection:finished command=find on 'graph_by_element'\n",
      "INFO:astrapy.collection:inserting 212 documents in 'graph_by_element'\n",
      "INFO:astrapy.collection:insertMany(chunk) on 'graph_by_element'\n",
      "INFO:astrapy.collection:insertMany(chunk) on 'graph_by_element'\n",
      "INFO:astrapy.collection:insertMany(chunk) on 'graph_by_element'\n",
      "INFO:astrapy.collection:insertMany(chunk) on 'graph_by_element'\n",
      "INFO:astrapy.collection:insertMany(chunk) on 'graph_by_element'\n",
      "INFO:httpx:HTTP Request: POST https://e9b06722-b7b7-4d7d-9ba0-801344f200de-us-east-2.apps.astra.datastax.com/api/json/v1/graphrag/graph_by_element \"HTTP/1.1 200 OK\"\n",
      "INFO:astrapy.collection:finished insertMany(chunk) on 'graph_by_element'\n",
      "INFO:httpx:HTTP Request: POST https://e9b06722-b7b7-4d7d-9ba0-801344f200de-us-east-2.apps.astra.datastax.com/api/json/v1/graphrag/graph_by_element \"HTTP/1.1 200 OK\"\n",
      "INFO:astrapy.collection:finished insertMany(chunk) on 'graph_by_element'\n",
      "INFO:httpx:HTTP Request: POST https://e9b06722-b7b7-4d7d-9ba0-801344f200de-us-east-2.apps.astra.datastax.com/api/json/v1/graphrag/graph_by_element \"HTTP/1.1 200 OK\"\n",
      "INFO:astrapy.collection:finished insertMany(chunk) on 'graph_by_element'\n",
      "INFO:httpx:HTTP Request: POST https://e9b06722-b7b7-4d7d-9ba0-801344f200de-us-east-2.apps.astra.datastax.com/api/json/v1/graphrag/graph_by_element \"HTTP/1.1 200 OK\"\n",
      "INFO:astrapy.collection:finished insertMany(chunk) on 'graph_by_element'\n",
      "INFO:httpx:HTTP Request: POST https://e9b06722-b7b7-4d7d-9ba0-801344f200de-us-east-2.apps.astra.datastax.com/api/json/v1/graphrag/graph_by_element \"HTTP/1.1 200 OK\"\n",
      "INFO:astrapy.collection:finished insertMany(chunk) on 'graph_by_element'\n",
      "INFO:astrapy.collection:finished inserting 212 documents in 'graph_by_element'\n"
     ]
    }
   ],
   "source": [
    "from langchain_astradb import AstraDBGraphVectorStore\n",
    "from langchain_astradb.utils.astradb import SetupMode\n",
    "graph_vector_stores = {}\n",
    "for key in [\"by_title\", \"by_element\"]:\n",
    "    collection_name = f\"graph_{key}\"\n",
    "    graph_vector_store = AstraDBGraphVectorStore(\n",
    "        collection_name=collection_name,\n",
    "        embedding=hf_embeddings,\n",
    "        api_endpoint=ASTRA_DB_API_ENDPOINT,\n",
    "        token=ASTRA_DB_APPLICATION_TOKEN,\n",
    "        namespace=ASTRA_DB_KEYSPACE,\n",
    "        setup_mode=SetupMode.SYNC\n",
    "    )\n",
    "    graph_vector_store.add_documents(graphs[key].graph)\n",
    "    graph_vector_stores[key] = graph_vector_store\n",
    "    "
   ]
  },
  {
   "cell_type": "code",
   "execution_count": 55,
   "metadata": {},
   "outputs": [
    {
     "name": "stderr",
     "output_type": "stream",
     "text": [
      "INFO:astrapy.cursors:creating iterator on 'graph_by_title'\n",
      "INFO:astrapy.cursors:finished creating iterator on 'graph_by_title'\n",
      "INFO:astrapy.collection:command=find on 'graph_by_title'\n",
      "INFO:httpx:HTTP Request: POST https://e9b06722-b7b7-4d7d-9ba0-801344f200de-us-east-2.apps.astra.datastax.com/api/json/v1/graphrag/graph_by_title \"HTTP/1.1 200 OK\"\n",
      "INFO:astrapy.collection:finished command=find on 'graph_by_title'\n",
      "INFO:astrapy.cursors:creating iterator on 'graph_by_title'\n",
      "INFO:astrapy.cursors:finished creating iterator on 'graph_by_title'\n",
      "INFO:astrapy.collection:command=find on 'graph_by_title'\n",
      "INFO:httpx:HTTP Request: POST https://e9b06722-b7b7-4d7d-9ba0-801344f200de-us-east-2.apps.astra.datastax.com/api/json/v1/graphrag/graph_by_title \"HTTP/1.1 200 OK\"\n",
      "INFO:astrapy.collection:finished command=find on 'graph_by_title'\n",
      "INFO:astrapy.cursors:creating iterator on 'graph_by_title'\n",
      "INFO:astrapy.cursors:finished creating iterator on 'graph_by_title'\n",
      "INFO:astrapy.collection:command=find on 'graph_by_title'\n",
      "INFO:httpx:HTTP Request: POST https://e9b06722-b7b7-4d7d-9ba0-801344f200de-us-east-2.apps.astra.datastax.com/api/json/v1/graphrag/graph_by_title \"HTTP/1.1 200 OK\"\n",
      "INFO:astrapy.collection:finished command=find on 'graph_by_title'\n",
      "INFO:astrapy.cursors:creating iterator on 'graph_by_title'\n",
      "INFO:astrapy.cursors:finished creating iterator on 'graph_by_title'\n",
      "INFO:astrapy.collection:command=find on 'graph_by_title'\n",
      "INFO:httpx:HTTP Request: POST https://e9b06722-b7b7-4d7d-9ba0-801344f200de-us-east-2.apps.astra.datastax.com/api/json/v1/graphrag/graph_by_title \"HTTP/1.1 200 OK\"\n",
      "INFO:astrapy.collection:finished command=find on 'graph_by_title'\n",
      "INFO:astrapy.cursors:creating iterator on 'graph_by_title'\n",
      "INFO:astrapy.cursors:finished creating iterator on 'graph_by_title'\n",
      "INFO:astrapy.collection:command=find on 'graph_by_title'\n",
      "INFO:httpx:HTTP Request: POST https://e9b06722-b7b7-4d7d-9ba0-801344f200de-us-east-2.apps.astra.datastax.com/api/json/v1/graphrag/graph_by_title \"HTTP/1.1 200 OK\"\n",
      "INFO:astrapy.collection:finished command=find on 'graph_by_title'\n",
      "INFO:astrapy.cursors:creating iterator on 'graph_by_title'\n",
      "INFO:astrapy.cursors:finished creating iterator on 'graph_by_title'\n",
      "INFO:astrapy.collection:command=find on 'graph_by_title'\n",
      "INFO:httpx:HTTP Request: POST https://e9b06722-b7b7-4d7d-9ba0-801344f200de-us-east-2.apps.astra.datastax.com/api/json/v1/graphrag/graph_by_title \"HTTP/1.1 200 OK\"\n",
      "INFO:astrapy.collection:finished command=find on 'graph_by_title'\n",
      "INFO:astrapy.cursors:creating iterator on 'graph_by_title'\n",
      "INFO:astrapy.cursors:finished creating iterator on 'graph_by_title'\n",
      "INFO:astrapy.collection:command=find on 'graph_by_title'\n",
      "INFO:httpx:HTTP Request: POST https://e9b06722-b7b7-4d7d-9ba0-801344f200de-us-east-2.apps.astra.datastax.com/api/json/v1/graphrag/graph_by_title \"HTTP/1.1 200 OK\"\n",
      "INFO:astrapy.collection:finished command=find on 'graph_by_title'\n",
      "INFO:astrapy.cursors:creating iterator on 'graph_by_title'\n",
      "INFO:astrapy.cursors:finished creating iterator on 'graph_by_title'\n",
      "INFO:astrapy.collection:command=find on 'graph_by_title'\n",
      "INFO:httpx:HTTP Request: POST https://e9b06722-b7b7-4d7d-9ba0-801344f200de-us-east-2.apps.astra.datastax.com/api/json/v1/graphrag/graph_by_title \"HTTP/1.1 200 OK\"\n",
      "INFO:astrapy.collection:finished command=find on 'graph_by_title'\n",
      "INFO:astrapy.cursors:creating iterator on 'graph_by_title'\n",
      "INFO:astrapy.cursors:finished creating iterator on 'graph_by_title'\n",
      "INFO:astrapy.collection:command=find on 'graph_by_title'\n",
      "INFO:httpx:HTTP Request: POST https://e9b06722-b7b7-4d7d-9ba0-801344f200de-us-east-2.apps.astra.datastax.com/api/json/v1/graphrag/graph_by_title \"HTTP/1.1 200 OK\"\n",
      "INFO:astrapy.collection:finished command=find on 'graph_by_title'\n"
     ]
    },
    {
     "name": "stdout",
     "output_type": "stream",
     "text": [
      "Retrival by_title has 10 documents\n",
      "eae4895a4f7bedf9d6810d3dcbc71774 Table\n",
      "0f3416e50150ae1fcc799a10a8a3dc64 CompositeElement\n",
      "99b4700ad701e926b4225b518b38d54c CompositeElement\n",
      "7d2eb48cc884a68ec6a73a0312b508e9 CompositeElement\n",
      "None NarrativeText\n",
      "01ffa7aba16150d19dd4b920c3597b4c CompositeElement\n",
      "None NarrativeText\n",
      "9c4086b88a27a7760049d15518e89b13 CompositeElement\n",
      "41a03643b142b7e0ccd4bd4445a08ac8 CompositeElement\n",
      "a70afad2f731797e0fdbb86f72689d1a CompositeElement\n"
     ]
    },
    {
     "name": "stderr",
     "output_type": "stream",
     "text": [
      "INFO:astrapy.cursors:creating iterator on 'graph_by_element'\n",
      "INFO:astrapy.cursors:finished creating iterator on 'graph_by_element'\n",
      "INFO:astrapy.collection:command=find on 'graph_by_element'\n",
      "INFO:httpx:HTTP Request: POST https://e9b06722-b7b7-4d7d-9ba0-801344f200de-us-east-2.apps.astra.datastax.com/api/json/v1/graphrag/graph_by_element \"HTTP/1.1 200 OK\"\n",
      "INFO:astrapy.collection:finished command=find on 'graph_by_element'\n",
      "INFO:astrapy.cursors:creating iterator on 'graph_by_element'\n",
      "INFO:astrapy.cursors:finished creating iterator on 'graph_by_element'\n",
      "INFO:astrapy.collection:command=find on 'graph_by_element'\n",
      "INFO:httpx:HTTP Request: POST https://e9b06722-b7b7-4d7d-9ba0-801344f200de-us-east-2.apps.astra.datastax.com/api/json/v1/graphrag/graph_by_element \"HTTP/1.1 200 OK\"\n",
      "INFO:astrapy.collection:finished command=find on 'graph_by_element'\n",
      "INFO:astrapy.cursors:creating iterator on 'graph_by_element'\n",
      "INFO:astrapy.cursors:finished creating iterator on 'graph_by_element'\n",
      "INFO:astrapy.collection:command=find on 'graph_by_element'\n",
      "INFO:httpx:HTTP Request: POST https://e9b06722-b7b7-4d7d-9ba0-801344f200de-us-east-2.apps.astra.datastax.com/api/json/v1/graphrag/graph_by_element \"HTTP/1.1 200 OK\"\n",
      "INFO:astrapy.collection:finished command=find on 'graph_by_element'\n",
      "INFO:astrapy.cursors:creating iterator on 'graph_by_element'\n",
      "INFO:astrapy.cursors:finished creating iterator on 'graph_by_element'\n",
      "INFO:astrapy.collection:command=find on 'graph_by_element'\n",
      "INFO:httpx:HTTP Request: POST https://e9b06722-b7b7-4d7d-9ba0-801344f200de-us-east-2.apps.astra.datastax.com/api/json/v1/graphrag/graph_by_element \"HTTP/1.1 200 OK\"\n",
      "INFO:astrapy.collection:finished command=find on 'graph_by_element'\n",
      "INFO:astrapy.cursors:creating iterator on 'graph_by_element'\n",
      "INFO:astrapy.cursors:finished creating iterator on 'graph_by_element'\n",
      "INFO:astrapy.collection:command=find on 'graph_by_element'\n",
      "INFO:httpx:HTTP Request: POST https://e9b06722-b7b7-4d7d-9ba0-801344f200de-us-east-2.apps.astra.datastax.com/api/json/v1/graphrag/graph_by_element \"HTTP/1.1 200 OK\"\n",
      "INFO:astrapy.collection:finished command=find on 'graph_by_element'\n",
      "INFO:astrapy.cursors:creating iterator on 'graph_by_element'\n",
      "INFO:astrapy.cursors:finished creating iterator on 'graph_by_element'\n",
      "INFO:astrapy.collection:command=find on 'graph_by_element'\n",
      "INFO:httpx:HTTP Request: POST https://e9b06722-b7b7-4d7d-9ba0-801344f200de-us-east-2.apps.astra.datastax.com/api/json/v1/graphrag/graph_by_element \"HTTP/1.1 200 OK\"\n",
      "INFO:astrapy.collection:finished command=find on 'graph_by_element'\n",
      "INFO:astrapy.cursors:creating iterator on 'graph_by_element'\n",
      "INFO:astrapy.cursors:finished creating iterator on 'graph_by_element'\n",
      "INFO:astrapy.collection:command=find on 'graph_by_element'\n",
      "INFO:httpx:HTTP Request: POST https://e9b06722-b7b7-4d7d-9ba0-801344f200de-us-east-2.apps.astra.datastax.com/api/json/v1/graphrag/graph_by_element \"HTTP/1.1 200 OK\"\n",
      "INFO:astrapy.collection:finished command=find on 'graph_by_element'\n"
     ]
    },
    {
     "name": "stdout",
     "output_type": "stream",
     "text": [
      "Retrival by_element has 10 documents\n",
      "f38b4b84f83fb8aba07c5535e896b4e6 NarrativeText\n",
      "78fa702495f1462d716f6f9f5a5ed308 NarrativeText\n",
      "184b1c67c5b83248b137b9d6964259ab Title\n",
      "7f41e979979cb8b2acc7bf5731dd6c34 NarrativeText\n",
      "e667ea4a13109d603aa3bb575511692b NarrativeText\n",
      "98020eaabe84fc0744a00ac4ae2498fb Title\n",
      "91aba52b96193022fc9db4c0b2a00a80 Image\n",
      "1e2692dec572327c213ca27277e63413 NarrativeText\n",
      "ddaca41a0c623dd70332adb3fbc6bd59 Title\n",
      "6f6f09dc0fe2f929eb06759763803801 Table\n"
     ]
    }
   ],
   "source": [
    "retrieved_docs={}\n",
    "for key in [\"by_title\", \"by_element\"]:\n",
    "    retrieved_docs[key] = list(graph_vector_stores[key].mmr_traversal_search(\"What are the differences between Graph RAG and naive RAG\", depth=4, k=10))\n",
    "    print(f\"Retrival {key} has {len(retrieved_docs[key])} documents\")\n",
    "    for doc in retrieved_docs[key]:\n",
    "        print(doc.metadata.get(\"element_id\"), doc.metadata.get(\"type\"))\n"
   ]
  },
  {
   "cell_type": "code",
   "execution_count": null,
   "metadata": {},
   "outputs": [
    {
     "name": "stdout",
     "output_type": "stream",
     "text": [
      "input_variables=['context', 'question'] input_types={} partial_variables={} messages=[HumanMessagePromptTemplate(prompt=PromptTemplate(input_variables=['context', 'question'], input_types={}, partial_variables={}, template=\"\\nYou are an specialist in artificial intelligence. Your role is to answer questions accurately based on the provided context. If the context does not contain enough information, respond by stating that the context doesn't allow you to answer the question.\\nHere is the context: {context}\\nBased on the context above, answer this question: {question}\"), additional_kwargs={})]\n"
     ]
    }
   ],
   "source": [
    "from langchain.prompts import ChatPromptTemplate\n",
    "from langchain.chat_models import ChatOpenAI\n",
    "\n",
    "prompt_template = ChatPromptTemplate.from_template(\"\"\"\n",
    "You are an specialist in artificial intelligence. Your role is to answer questions accurately based on the provided context. If the context does not contain enough information, respond by stating that the context doesn't allow you to answer the question.\n",
    "Here is the context: {context}\n",
    "Based on the context above, answer this question: {question}\"\"\")\n",
    "\n",
    "question = \"What are the differences between Graph RAG and naive RAG?\"\n",
    "llm = ChatOpenAI(model=\"gpt-4o-mini\", temperature=0)\n"
   ]
  },
  {
   "cell_type": "code",
   "execution_count": null,
   "metadata": {},
   "outputs": [
    {
     "name": "stderr",
     "output_type": "stream",
     "text": [
      "INFO:httpx:HTTP Request: POST https://api.openai.com/v1/chat/completions \"HTTP/1.1 200 OK\"\n"
     ]
    },
    {
     "name": "stdout",
     "output_type": "stream",
     "text": [
      "The context does not allow me to answer the question about the differences between Graph RAG and naive RAG.\n"
     ]
    },
    {
     "name": "stderr",
     "output_type": "stream",
     "text": [
      "INFO:httpx:HTTP Request: POST https://api.openai.com/v1/chat/completions \"HTTP/1.1 200 OK\"\n"
     ]
    },
    {
     "name": "stdout",
     "output_type": "stream",
     "text": [
      "The context indicates several differences between Graph RAG and naive RAG (SS):\n",
      "\n",
      "1. **Performance on Global Queries**: Graph RAG provides superior performance on global queries over a dataset compared to naive RAG, particularly in summarizing root-level communities in the entity-based graph index.\n",
      "\n",
      "2. **Comprehensiveness and Diversity**: Graph RAG outperforms naive RAG in terms of comprehensiveness (with a 72% win rate) and diversity (with a 62% win rate).\n",
      "\n",
      "3. **Token Cost**: Graph RAG achieves competitive performance to other global methods at a fraction of the token cost compared to naive RAG.\n",
      "\n",
      "4. **Handling of Entity References**: Graph RAG is designed to manage variations in entity references more effectively, reducing the risk of duplicate nodes in the entity graph due to its ability to detect and summarize closely-related communities of entities.\n",
      "\n",
      "5. **Empowerment Comparisons**: The empowerment comparisons showed mixed results for both global approaches versus naive RAG, indicating that while naive RAG has its strengths, Graph RAG may provide more specific examples, quotes, and citations that help users reach an informed understanding.\n",
      "\n",
      "Overall, Graph RAG demonstrates advantages in comprehensiveness, diversity, and efficiency in handling global queries compared to naive RAG.\n"
     ]
    }
   ],
   "source": [
    "for strategy in [\"by_element\", \"by_title\"]:\n",
    "    context = \"\"\n",
    "    for doc in retrieved_docs[strategy]:\n",
    "        context += f\"\\n{doc.page_content}\"\n",
    "\n",
    "    formatted_prompt = prompt_template.format(context=context, question=question)\n",
    "    # Send the prompt to OpenAI and get the chat completion\n",
    "    response = llm.invoke(formatted_prompt)\n",
    "    print(response.content)\n"
   ]
  },
  {
   "cell_type": "code",
   "execution_count": null,
   "metadata": {},
   "outputs": [],
   "source": [
    "question = \"What are the differences between Graph RAG and naive RAG?\"\n",
    "llm = ChatOpenAI(model=\"gpt-4o-mini\", temperature=0)\n",
    "\n",
    "for strategy in [\"by_element\", \"by_title\"]:\n",
    "    context = \"\"\n",
    "    for doc in retrieved_docs[strategy]:\n",
    "        context += f\"\\n{doc.page_content}\"\n",
    "\n",
    "    formatted_prompt = prompt_template.format(context=context, question=question)\n",
    "    # Send the prompt to OpenAI and get the chat completion\n",
    "    response = llm.invoke(formatted_prompt)\n",
    "    print(response.content)\n"
   ]
  },
  {
   "cell_type": "markdown",
   "metadata": {},
   "source": [
    "### As a point of comparison, do retrive documents from the vector store and run chain"
   ]
  },
  {
   "cell_type": "code",
   "execution_count": 59,
   "metadata": {},
   "outputs": [
    {
     "name": "stderr",
     "output_type": "stream",
     "text": [
      "INFO:astrapy.cursors:creating iterator on 'unstructured_by_title'\n",
      "INFO:astrapy.cursors:finished creating iterator on 'unstructured_by_title'\n",
      "INFO:astrapy.collection:command=find on 'unstructured_by_title'\n",
      "INFO:httpx:HTTP Request: POST https://e9b06722-b7b7-4d7d-9ba0-801344f200de-us-east-2.apps.astra.datastax.com/api/json/v1/graphrag/unstructured_by_title \"HTTP/1.1 200 OK\"\n",
      "INFO:astrapy.collection:finished command=find on 'unstructured_by_title'\n",
      "INFO:astrapy.cursors:creating iterator on 'unstructured_by_element'\n",
      "INFO:astrapy.cursors:finished creating iterator on 'unstructured_by_element'\n",
      "INFO:astrapy.collection:command=find on 'unstructured_by_element'\n"
     ]
    },
    {
     "name": "stdout",
     "output_type": "stream",
     "text": [
      "Retrival by_title has 10 documents\n",
      "eae4895a4f7bedf9d6810d3dcbc71774 Table\n",
      "e2c0d65f135931524dd0ecff1ba314a7 CompositeElement\n",
      "cc9c3cc000c956c82d96ce2fdd86f597 CompositeElement\n",
      "7099bddda898af673be4c4fd66499692 CompositeElement\n",
      "d27013e58416392d6e81bb5f169b162c CompositeElement\n",
      "4a65264c97297c5e62125f1545f336fd CompositeElement\n",
      "7d2eb48cc884a68ec6a73a0312b508e9 CompositeElement\n",
      "3344a28cb21121a548387d1f6d0532f7 CompositeElement\n",
      "556c695c19e5a20fd4b86505bd2c11f6 CompositeElement\n",
      "a70afad2f731797e0fdbb86f72689d1a CompositeElement\n"
     ]
    },
    {
     "name": "stderr",
     "output_type": "stream",
     "text": [
      "INFO:httpx:HTTP Request: POST https://e9b06722-b7b7-4d7d-9ba0-801344f200de-us-east-2.apps.astra.datastax.com/api/json/v1/graphrag/unstructured_by_element \"HTTP/1.1 200 OK\"\n",
      "INFO:astrapy.collection:finished command=find on 'unstructured_by_element'\n"
     ]
    },
    {
     "name": "stdout",
     "output_type": "stream",
     "text": [
      "Retrival by_element has 10 documents\n",
      "f38b4b84f83fb8aba07c5535e896b4e6 NarrativeText\n",
      "8acfdb793c30dbcf758fcbd7b1b5dc79 Title\n",
      "7df23ff5f6144fb4119be010c204db6a NarrativeText\n",
      "ddaca41a0c623dd70332adb3fbc6bd59 Title\n",
      "e410d7d4f215b88d55c5c1516732168f NarrativeText\n",
      "1e2692dec572327c213ca27277e63413 NarrativeText\n",
      "e56fc729feae4251c7a9dcfc56b1015e NarrativeText\n",
      "674224fba7d004d7eb1e4c25994705d9 NarrativeText\n",
      "033d0bf59323c91bc00ba692f9d8f747 NarrativeText\n",
      "eeefa0d04f9d7ea044a4a2909464b49b NarrativeText\n"
     ]
    }
   ],
   "source": [
    "retrieved_docs={}\n",
    "for key in [\"by_title\", \"by_element\"]:\n",
    "    retrieved_docs[key] = list(vs_dict[key].max_marginal_relevance_search(\"What are the differences between Graph RAG and naive RAG\", k=10, lambda_mult=0.5))\n",
    "    print(f\"Retrival {key} has {len(retrieved_docs[key])} documents\")\n",
    "    for doc in retrieved_docs[key]:\n",
    "        print(doc.metadata.get(\"element_id\"), doc.metadata.get(\"type\"))\n"
   ]
  },
  {
   "cell_type": "code",
   "execution_count": 60,
   "metadata": {},
   "outputs": [
    {
     "name": "stderr",
     "output_type": "stream",
     "text": [
      "INFO:httpx:HTTP Request: POST https://api.openai.com/v1/chat/completions \"HTTP/1.1 200 OK\"\n"
     ]
    },
    {
     "name": "stdout",
     "output_type": "stream",
     "text": [
      "The differences between Graph RAG and naive RAG include:\n",
      "\n",
      "1. **Comprehensiveness and Diversity**: Graph RAG approaches consistently outperform naive RAG in both comprehensiveness and diversity metrics across various datasets. Specifically, global approaches achieved higher win rates in comprehensiveness (72-83% for Podcast transcripts and 72-80% for News articles) and diversity (75-82% for Podcast transcripts and 62-71% for News articles).\n",
      "\n",
      "2. **Use of Graphs**: Graph RAG utilizes the natural modularity of graphs to partition data for global summarization, whereas naive RAG does not leverage this structure.\n",
      "\n",
      "3. **Information Retrieval Method**: In naive RAG, documents are converted to text, split into chunks, and embedded into a vector space for similarity-based retrieval. In contrast, Graph RAG approaches incorporate graph structures, which may allow for more sophisticated retrieval and summarization techniques.\n",
      "\n",
      "4. **Directness of Responses**: Naive RAG produces the most direct responses across all comparisons, while Graph RAG focuses on generating more comprehensive and diverse outputs.\n",
      "\n",
      "Overall, Graph RAG employs a more advanced and structured approach to information retrieval and summarization compared to the simpler, chunk-based method used in naive RAG.\n"
     ]
    },
    {
     "name": "stderr",
     "output_type": "stream",
     "text": [
      "INFO:httpx:HTTP Request: POST https://api.openai.com/v1/chat/completions \"HTTP/1.1 200 OK\"\n"
     ]
    },
    {
     "name": "stdout",
     "output_type": "stream",
     "text": [
      "The context indicates that Graph RAG outperforms naive RAG in terms of comprehensiveness and diversity. Additionally, advanced RAG systems, including Graph RAG, incorporate pre-retrieval, retrieval, and post-retrieval strategies designed to overcome the drawbacks of naive RAG. However, the specific differences between Graph RAG and naive RAG are not detailed in the provided context. Therefore, the context does not allow for a comprehensive answer regarding all the differences between the two approaches.\n"
     ]
    }
   ],
   "source": [
    "for strategy in [\"by_element\", \"by_title\"]:\n",
    "    context = \"\"\n",
    "    for doc in retrieved_docs[strategy]:\n",
    "        context += f\"\\n{doc.page_content}\"\n",
    "\n",
    "    formatted_prompt = prompt_template.format(context=context, question=question)\n",
    "    # Send the prompt to OpenAI and get the chat completion\n",
    "    response = llm.invoke(formatted_prompt)\n",
    "    print(response.content)\n"
   ]
  }
 ],
 "metadata": {
  "kernelspec": {
   "display_name": ".venv",
   "language": "python",
   "name": "python3"
  },
  "language_info": {
   "codemirror_mode": {
    "name": "ipython",
    "version": 3
   },
   "file_extension": ".py",
   "mimetype": "text/x-python",
   "name": "python",
   "nbconvert_exporter": "python",
   "pygments_lexer": "ipython3",
   "version": "3.11.10"
  }
 },
 "nbformat": 4,
 "nbformat_minor": 2
}
